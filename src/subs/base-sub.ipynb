{
 "cells": [
  {
   "cell_type": "code",
   "execution_count": 1,
   "id": "84cc1f4b",
   "metadata": {
    "execution": {
     "iopub.execute_input": "2025-04-16T15:07:56.694240Z",
     "iopub.status.busy": "2025-04-16T15:07:56.693904Z",
     "iopub.status.idle": "2025-04-16T15:07:56.699049Z",
     "shell.execute_reply": "2025-04-16T15:07:56.698254Z"
    },
    "papermill": {
     "duration": 0.012179,
     "end_time": "2025-04-16T15:07:56.700427",
     "exception": false,
     "start_time": "2025-04-16T15:07:56.688248",
     "status": "completed"
    },
    "tags": []
   },
   "outputs": [],
   "source": [
    "# !pip install svgwrite svgpathtools\n",
    "# !pip install cairosvg bitsandbytes\n",
    "# !pip install git+https://github.com/openai/CLIP.git\n",
    "# !pip install -q opencv-python scikit-image pillow\n",
    "# !pip install scour cssutils"
   ]
  },
  {
   "cell_type": "code",
   "execution_count": 2,
   "id": "d4892ecc",
   "metadata": {
    "execution": {
     "iopub.execute_input": "2025-04-16T15:07:56.710330Z",
     "iopub.status.busy": "2025-04-16T15:07:56.710043Z",
     "iopub.status.idle": "2025-04-16T15:07:56.713345Z",
     "shell.execute_reply": "2025-04-16T15:07:56.712649Z"
    },
    "papermill": {
     "duration": 0.009769,
     "end_time": "2025-04-16T15:07:56.714737",
     "exception": false,
     "start_time": "2025-04-16T15:07:56.704968",
     "status": "completed"
    },
    "tags": []
   },
   "outputs": [],
   "source": [
    "#| default_exp core"
   ]
  },
  {
   "cell_type": "code",
   "execution_count": 3,
   "id": "4e6a0674",
   "metadata": {
    "execution": {
     "iopub.execute_input": "2025-04-16T15:07:56.723388Z",
     "iopub.status.busy": "2025-04-16T15:07:56.723119Z",
     "iopub.status.idle": "2025-04-16T15:10:22.069333Z",
     "shell.execute_reply": "2025-04-16T15:10:22.068289Z"
    },
    "papermill": {
     "duration": 145.352407,
     "end_time": "2025-04-16T15:10:22.071157",
     "exception": false,
     "start_time": "2025-04-16T15:07:56.718750",
     "status": "completed"
    },
    "tags": []
   },
   "outputs": [],
   "source": [
    "# #| export\n",
    "\n",
    "import kagglehub\n",
    "import shutil\n",
    "import os\n",
    "import sys\n",
    "from pathlib import Path\n",
    "import subprocess\n",
    "\n",
    "# diffvg_path = kagglehub.dataset_download('tomirol/diffvg')\n",
    "# out_path = Path(\"/tmp/diffvg\").resolve()\n",
    "\n",
    "# if not out_path.exists():\n",
    "#     shutil.copytree(Path(diffvg_path) / \"diffvg\", str(out_path))\n",
    "\n",
    "# output = subprocess.check_output(f\"pip uninstall tensorflow -y && cd {str(out_path)} && python setup.py install\", shell=True, text=True)\n",
    "\n",
    "# sys.path.append(str(out_path / \"dist/diffvg-0.0.1-py3.10-linux-x86_64.egg\"))\n"
   ]
  },
  {
   "cell_type": "code",
   "execution_count": 4,
   "id": "da56a68b",
   "metadata": {
    "execution": {
     "iopub.execute_input": "2025-04-16T15:10:22.084874Z",
     "iopub.status.busy": "2025-04-16T15:10:22.084617Z",
     "iopub.status.idle": "2025-04-16T15:10:22.536641Z",
     "shell.execute_reply": "2025-04-16T15:10:22.535936Z"
    },
    "papermill": {
     "duration": 0.459409,
     "end_time": "2025-04-16T15:10:22.538273",
     "exception": false,
     "start_time": "2025-04-16T15:10:22.078864",
     "status": "completed"
    },
    "tags": []
   },
   "outputs": [],
   "source": [
    "#| export\n",
    "\n",
    "draw_src_path = kagglehub.dataset_download('tomirol/drawsrc')\n",
    "\n",
    "out_path = Path(\"/tmp/drawsrc\")\n",
    "\n",
    "if not out_path.exists():\n",
    "    shutil.copytree(str(draw_src_path), out_path)\n",
    "\n",
    "sys.path.append(str(out_path))"
   ]
  },
  {
   "cell_type": "code",
   "execution_count": 5,
   "id": "68671134",
   "metadata": {
    "execution": {
     "iopub.execute_input": "2025-04-16T15:10:22.547698Z",
     "iopub.status.busy": "2025-04-16T15:10:22.547393Z",
     "iopub.status.idle": "2025-04-16T15:10:22.758827Z",
     "shell.execute_reply": "2025-04-16T15:10:22.757773Z"
    },
    "papermill": {
     "duration": 0.217851,
     "end_time": "2025-04-16T15:10:22.760602",
     "exception": false,
     "start_time": "2025-04-16T15:10:22.542751",
     "status": "completed"
    },
    "tags": []
   },
   "outputs": [],
   "source": [
    "#| export\n",
    "\n",
    "primitive_path = kagglehub.dataset_download('tomirol/primitive')\n",
    "\n",
    "out_path = Path(\"/tmp/primitive\")\n",
    "\n",
    "if not out_path.exists():\n",
    "    shutil.copy(Path(primitive_path) / \"primitive\", out_path)\n",
    "    subprocess.check_output(f\"chmod +x {out_path}\", shell=True, text=True)"
   ]
  },
  {
   "cell_type": "code",
   "execution_count": 6,
   "id": "adc8ff0c",
   "metadata": {
    "execution": {
     "iopub.execute_input": "2025-04-16T15:10:22.771229Z",
     "iopub.status.busy": "2025-04-16T15:10:22.770893Z",
     "iopub.status.idle": "2025-04-16T15:10:22.800078Z",
     "shell.execute_reply": "2025-04-16T15:10:22.799035Z"
    },
    "papermill": {
     "duration": 0.036342,
     "end_time": "2025-04-16T15:10:22.801791",
     "exception": false,
     "start_time": "2025-04-16T15:10:22.765449",
     "status": "completed"
    },
    "tags": []
   },
   "outputs": [],
   "source": [
    "#| export\n",
    "\n",
    "import sys\n",
    "import site\n",
    "from importlib import invalidate_caches\n",
    "\n",
    "# Refresh sys.path\n",
    "site.main()\n",
    "invalidate_caches()"
   ]
  },
  {
   "cell_type": "code",
   "execution_count": 7,
   "id": "27c68b81",
   "metadata": {
    "execution": {
     "iopub.execute_input": "2025-04-16T15:10:22.813040Z",
     "iopub.status.busy": "2025-04-16T15:10:22.812706Z",
     "iopub.status.idle": "2025-04-16T15:10:45.256946Z",
     "shell.execute_reply": "2025-04-16T15:10:45.256159Z"
    },
    "papermill": {
     "duration": 22.451397,
     "end_time": "2025-04-16T15:10:45.258478",
     "exception": false,
     "start_time": "2025-04-16T15:10:22.807081",
     "status": "completed"
    },
    "tags": []
   },
   "outputs": [],
   "source": [
    "#| export\n",
    "\n",
    "# import os\n",
    "# os.environ[\"TORCH_COMPILE_DISABLE\"] = \"1\"\n",
    "\n",
    "from pydantic import BaseModel\n",
    "from PIL import Image\n",
    "import re\n",
    "import torch\n",
    "from diffusers import StableDiffusionPipeline, DDIMScheduler\n",
    "import kagglehub\n",
    "import subprocess\n",
    "import scour.scour\n",
    "\n",
    "\n",
    "import os\n",
    "import kornia\n",
    "import torch.nn as nn\n",
    "import copy\n",
    "import random\n",
    "import pandas as pd\n",
    "import cv2\n",
    "import json\n",
    "import cairosvg\n",
    "from pathlib import Path\n",
    "import io\n",
    "from torch.nn import functional as F\n",
    "import numpy as np\n",
    "import torch\n",
    "from tqdm.auto import tqdm\n",
    "import pydiffvg\n",
    "\n",
    "\n",
    "from src.score_original import VQAEvaluator, ImageProcessor, AestheticEvaluator\n",
    "from src.score_gradient import (\n",
    "    score_original,\n",
    "    score_gradient,\n",
    "    aesthetic_score_original,\n",
    "    vqa_score_original,\n",
    "    aesthetic_score_gradient,\n",
    "    vqa_score_gradient,\n",
    ")\n",
    "from src.preprocessing import apply_preprocessing_torch\n",
    "\n",
    "from src.text_to_svg import text_to_svg\n",
    "\n",
    "\n",
    "device_0 = f\"cuda:{max(0, torch.cuda.device_count() - 2)}\"\n",
    "device_1 = f\"cuda:{max(0, torch.cuda.device_count() - 1)}\""
   ]
  },
  {
   "cell_type": "code",
   "execution_count": 8,
   "id": "50450c01",
   "metadata": {
    "execution": {
     "iopub.execute_input": "2025-04-16T15:10:45.269090Z",
     "iopub.status.busy": "2025-04-16T15:10:45.268623Z",
     "iopub.status.idle": "2025-04-16T15:10:45.805779Z",
     "shell.execute_reply": "2025-04-16T15:10:45.804992Z"
    },
    "papermill": {
     "duration": 0.543919,
     "end_time": "2025-04-16T15:10:45.807376",
     "exception": false,
     "start_time": "2025-04-16T15:10:45.263457",
     "status": "completed"
    },
    "tags": []
   },
   "outputs": [],
   "source": [
    "#| export\n",
    "\n",
    "\n",
    "class BaseConfig(BaseModel):\n",
    "    width: int = 384\n",
    "    height: int = 384\n",
    "\n",
    "\n",
    "class SDConfig(BaseConfig):\n",
    "    stable_diffusion_path: str = kagglehub.model_download(\"stabilityai/stable-diffusion-v2/pytorch/1/1\")\n",
    "    prompt_prefixes: list[str] = [\"Simple, classic image of\"]\n",
    "    prompt_suffixes: list[str] = [\"with flat color blocks, beautiful, minimal details, solid colors only\"]\n",
    "    negative_prompts: list[str] = [\"lines, framing, hatching, background, textures, patterns, details, outlines\"]\n",
    "    num_inference_steps: int = 25\n",
    "    guidance_scale: int = 20\n",
    "\n",
    "\n",
    "class TextConfig(BaseConfig):\n",
    "    x_position_frac: float = 0.9\n",
    "    y_position_frac: float = 0.9\n",
    "    font_size: int = 45\n",
    "    color: tuple[int, int, int] = (255, 255, 255)\n",
    "    font_path: str = \"\"\n",
    "\n",
    "\n",
    "class PrimitiveConfig(BaseConfig):\n",
    "    mode: int = 8\n",
    "    num_shapes: int = 100\n",
    "\n",
    "\n",
    "class DiffvgConfig(BaseConfig):\n",
    "    num_iterations: int = 80\n",
    "    validation_steps: int = 20\n",
    "    base_svg_path: str = str(Path(kagglehub.dataset_download('tomirol/aestsvg')) / \"aesthetic_bg_32_80.svg\")\n",
    "    # base_svg_path: str = \"/home/mpf/code/kaggle/draw/drawsrc/aesthetic_bg_32_80.svg\"\n",
    "    # base_svg_path: str = \"/home/mpf/code/kaggle/draw/output_aest.svg\""
   ]
  },
  {
   "cell_type": "code",
   "execution_count": 9,
   "id": "200c354c",
   "metadata": {
    "execution": {
     "iopub.execute_input": "2025-04-16T15:10:45.818733Z",
     "iopub.status.busy": "2025-04-16T15:10:45.818406Z",
     "iopub.status.idle": "2025-04-16T15:10:45.823088Z",
     "shell.execute_reply": "2025-04-16T15:10:45.822429Z"
    },
    "papermill": {
     "duration": 0.011346,
     "end_time": "2025-04-16T15:10:45.824307",
     "exception": false,
     "start_time": "2025-04-16T15:10:45.812961",
     "status": "completed"
    },
    "tags": []
   },
   "outputs": [],
   "source": [
    "#| export\n",
    "\n",
    "def generate_sd_image(pipe: StableDiffusionPipeline, prompt: str, config: SDConfig) -> list[Image.Image]:\n",
    "    images = []\n",
    "    for prompt_prefix, prompt_suffix, negative_prompt in zip(config.prompt_prefixes, config.prompt_suffixes, config.negative_prompts):\n",
    "        image = pipe(\n",
    "            prompt=f'{prompt_prefix} {prompt} {prompt_suffix}',\n",
    "            negative_prompt=negative_prompt,\n",
    "            num_inference_steps=config.num_inference_steps,\n",
    "            guidance_scale=config.guidance_scale,\n",
    "        ).images[0]\n",
    "        images.append(image)\n",
    "\n",
    "    return images[0]"
   ]
  },
  {
   "cell_type": "code",
   "execution_count": 10,
   "id": "11a1a199",
   "metadata": {
    "execution": {
     "iopub.execute_input": "2025-04-16T15:10:45.835183Z",
     "iopub.status.busy": "2025-04-16T15:10:45.834910Z",
     "iopub.status.idle": "2025-04-16T15:10:45.843382Z",
     "shell.execute_reply": "2025-04-16T15:10:45.842656Z"
    },
    "papermill": {
     "duration": 0.01555,
     "end_time": "2025-04-16T15:10:45.844822",
     "exception": false,
     "start_time": "2025-04-16T15:10:45.829272",
     "status": "completed"
    },
    "tags": []
   },
   "outputs": [],
   "source": [
    "#| export\n",
    "\n",
    "def generate_primitive_svg(\n",
    "    image: Image.Image,\n",
    "    size: int = 384,\n",
    "    mode: int = 8,\n",
    "    num_shapes: int = 100,\n",
    "    temp_path: str = \"/tmp/image.png\",\n",
    "    max_size: int = 5700\n",
    ") -> str:\n",
    "    temp_path_svg = temp_path.replace(\".png\", \".svg\")\n",
    "    image = image.resize((size, size))\n",
    "\n",
    "    image.save(temp_path)\n",
    "\n",
    "    args = [\n",
    "        \"/tmp/primitive\",\n",
    "        \"-i\",\n",
    "        temp_path,\n",
    "        \"-o\",\n",
    "        temp_path_svg,\n",
    "        \"-n\",\n",
    "        str(num_shapes),\n",
    "        \"-m\",\n",
    "        str(mode),\n",
    "        \"-r\",\n",
    "        f\"{size}\",\n",
    "        \"-s\",\n",
    "        f\"{size}\",\n",
    "    ]\n",
    "    subprocess.run(args)\n",
    "\n",
    "    with open(temp_path_svg, \"r\") as f:\n",
    "        svg = f.read()\n",
    "    \n",
    "    svg = polygon_to_path(svg)\n",
    "    \n",
    "    cur_svg = svg\n",
    "    svg_lines = svg.strip().split(\"\\n\")\n",
    "    keep_idx = [1] * len(svg_lines)\n",
    "    cur_idx = len(svg_lines) - 1\n",
    "\n",
    "    while len(optimize_svg(cur_svg).encode('utf-8')) > max_size:\n",
    "        if \"<path\" in svg_lines[cur_idx]:\n",
    "            keep_idx[cur_idx] = 0\n",
    "\n",
    "        cur_idx -= 1\n",
    "        cur_svg = \"\\n\".join([line for i, line in enumerate(svg_lines) if keep_idx[i]])\n",
    "        \n",
    "    print(f\"Avg keep: {np.mean(keep_idx)}\")\n",
    "    print(len(optimize_svg(cur_svg).encode('utf-8')))\n",
    "    \n",
    "    svg = cur_svg\n",
    "\n",
    "    # svg += text_to_svg(\"A\", x_position_frac=0.9, y_position_frac=0.9, font_size=45, color=(255, 255, 255), font_path=\"/usr/share/fonts/truetype/liberation/LiberationSans-Bold.ttf\").split(\"\\n\")[1]\n",
    "    svg += text_to_svg(\"O\", x_position_frac=0.6, y_position_frac=0.85, font_size=60, color=(255, 255, 255), font_path=\"/usr/share/fonts/truetype/liberation/LiberationSans-Bold.ttf\").split(\"\\n\")[1]\n",
    "    svg += text_to_svg(\"C\", x_position_frac=0.75, y_position_frac=0.85, font_size=60, color=(0, 0, 0), font_path=\"/usr/share/fonts/truetype/liberation/LiberationSans-Bold.ttf\").split(\"\\n\")[1]\n",
    "\n",
    "    svg = svg.replace(\"</svg>\", \"\") + \"</svg>\"\n",
    "\n",
    "    return svg"
   ]
  },
  {
   "cell_type": "code",
   "execution_count": 11,
   "id": "223b2305",
   "metadata": {
    "execution": {
     "iopub.execute_input": "2025-04-16T15:10:45.855702Z",
     "iopub.status.busy": "2025-04-16T15:10:45.855339Z",
     "iopub.status.idle": "2025-04-16T15:10:45.872160Z",
     "shell.execute_reply": "2025-04-16T15:10:45.871369Z"
    },
    "papermill": {
     "duration": 0.023736,
     "end_time": "2025-04-16T15:10:45.873487",
     "exception": false,
     "start_time": "2025-04-16T15:10:45.849751",
     "status": "completed"
    },
    "tags": []
   },
   "outputs": [],
   "source": [
    "#| export\n",
    "\n",
    "def polygon_to_path(svg: str) -> str:\n",
    "    svg = re.sub(\n",
    "        r'<polygon([\\w\\W]+?)points=([\"\\'])([\\.\\d, -]+?)([\"\\'])', \n",
    "        r'<path\\1d=\\2M\\3z\\4', \n",
    "        svg\n",
    "    )\n",
    "    svg = re.sub(\n",
    "        r'<polyline([\\w\\W]+?)points=([\"\\'])([\\.\\d, -]+?)([\"\\'])', \n",
    "        r'<path\\1d=\\2M\\3\\4', \n",
    "        svg\n",
    "    )\n",
    "    return svg\n",
    "\n",
    "def merge_svgs(bg_svg: str, aest_svg: str):\n",
    "    aest_svg = aest_svg.strip().split(\"\\n\")[2:-1]\n",
    "    # aest_svg = [\n",
    "    #     '<g clip-path=\"polygon(32px 32px, 80px 32px, 80px 80px, 32px 80px)\">',\n",
    "    #     # '<svg x=\"32\" y=\"32\" width=\"48\" height=\"48\" viewBox=\"32 32 48 48\" overflow=\"hidden\">',\n",
    "    #     *aest_svg,\n",
    "    #     '</g>'\n",
    "    # ]\n",
    "    aest_svg = \"\\n\".join(aest_svg)\n",
    "    \n",
    "    bg_svg = polygon_to_path(bg_svg)\n",
    "    svg = bg_svg + '\\n' + aest_svg\n",
    "    svg = svg.replace(\"</svg>\", \"\") + \"</svg>\"\n",
    "\n",
    "    return svg\n",
    "\n",
    "\n",
    "def svg_to_png_no_resize(svg_code: str) -> Image.Image:\n",
    "    png_data = cairosvg.svg2png(bytestring=svg_code.encode('utf-8'))\n",
    "    img_pil = Image.open(io.BytesIO(png_data)).convert('RGB')\n",
    "    return img_pil\n",
    "\n",
    "\n",
    "def apply_random_crop_resize_seed(image: Image.Image, crop_percent=0.05, seed=42):\n",
    "    rs = np.random.RandomState(seed)\n",
    "    \n",
    "    width, height = image.size\n",
    "    crop_pixels_w = int(width * crop_percent)\n",
    "    crop_pixels_h = int(height * crop_percent)\n",
    "\n",
    "    left = rs.randint(0, crop_pixels_w + 1)\n",
    "    top = rs.randint(0, crop_pixels_h + 1)\n",
    "    right = width - rs.randint(0, crop_pixels_w + 1)\n",
    "    bottom = height - rs.randint(0, crop_pixels_h + 1)\n",
    "\n",
    "    image = image.crop((left, top, right, bottom))\n",
    "    image = image.resize((width, height), Image.BILINEAR)\n",
    "\n",
    "    return image\n",
    "\n",
    "\n",
    "def get_optimization_settings():\n",
    "    settings = pydiffvg.SvgOptimizationSettings()\n",
    "\n",
    "    lr = 1e-3\n",
    "\n",
    "    settings.global_override([\"optimizer\"], \"Adam\")\n",
    "    settings.global_override([\"color_lr\"], lr)\n",
    "    settings.global_override([\"alpha_lr\"], lr)\n",
    "    settings.global_override([\"paths\", \"shape_lr\"], 10*lr)\n",
    "    settings.global_override([\"circles\", \"shape_lr\"], 10*lr)\n",
    "    settings.global_override([\"transforms\", \"transform_lr\"], 10*lr)\n",
    "    \n",
    "    settings.global_override([\"gradients\", \"optimize_stops\"], True)\n",
    "    settings.global_override([\"gradients\", \"stop_lr\"], lr)\n",
    "    settings.global_override([\"gradients\", \"optimize_color\"], True)\n",
    "    settings.global_override([\"gradients\", \"color_lr\"], lr)\n",
    "    settings.global_override([\"gradients\", \"optimize_alpha\"], True)\n",
    "    settings.global_override([\"gradients\", \"alpha_lr\"], lr)\n",
    "    settings.global_override([\"gradients\", \"optimize_location\"], True)\n",
    "    settings.global_override([\"gradients\", \"location_lr\"], 10*lr)\n",
    "\n",
    "    settings.global_override([\"optimize_color\"], True)\n",
    "    settings.global_override([\"optimize_alpha\"], True)\n",
    "    settings.global_override([\"paths\", \"optimize_points\"], True)\n",
    "    settings.global_override([\"circles\", \"optimize_center\"], True)\n",
    "    settings.global_override([\"circles\", \"optimize_radius\"], True)\n",
    "    settings.global_override([\"transforms\", \"optimize_transforms\"], True)\n",
    "\n",
    "    return settings\n",
    "\n",
    "\n",
    "def seed_everything(seed: int = 42):\n",
    "    random.seed(seed)\n",
    "    np.random.seed(seed)\n",
    "    torch.manual_seed(seed)\n",
    "    torch.cuda.manual_seed(seed)\n",
    "    # torch.backends.cudnn.deterministic = True\n",
    "    # torch.backends.cudnn.benchmark = False\n",
    "\n",
    "\n",
    "def generate_diffvg_svg(\n",
    "    bg_svg: str,\n",
    "    base_svg_path: str,\n",
    "    evaluator: AestheticEvaluator,\n",
    "    width: int = 384,\n",
    "    height: int = 384,\n",
    "    num_iterations: int = 100,\n",
    "    validation_steps: int = 10,\n",
    "    device: str = device_0,\n",
    "    num_eval: int = 4\n",
    ") -> Image.Image:\n",
    "    pydiffvg.set_use_gpu(True)\n",
    "\n",
    "    bg_image = svg_to_png_no_resize(bg_svg)\n",
    "    bg_image = bg_image.resize((width, height))\n",
    "    bg_image = np.array(bg_image)\n",
    "    bg_image = torch.from_numpy(bg_image).to(device).permute(2, 0, 1).float() / 255.0\n",
    "\n",
    "    mask = torch.zeros((3, height, width), dtype=torch.float32, device=device)\n",
    "    mask[:, 32:80, 32:80] = 1\n",
    "\n",
    "    settings = get_optimization_settings()\n",
    "\n",
    "    text_path_ids = [f\"text-path-{i}\" for i in range(100)] + [f\"background-{i}\" for i in range(10)]\n",
    "    for text_id in text_path_ids:\n",
    "        text_settings = settings.undefault(text_id)\n",
    "        text_settings[\"paths\"][\"optimize_points\"] = False\n",
    "        text_settings[\"optimize_color\"] = True\n",
    "        text_settings[\"optimize_alpha\"] = True\n",
    "        text_settings[\"optimize_transforms\"] = True\n",
    "\n",
    "    optim_svg = pydiffvg.OptimizableSvg(\n",
    "        base_svg_path, settings, optimize_background=False, verbose=False, device=device\n",
    "    )\n",
    "\n",
    "    best_svg = optimize_svg(merge_svgs(bg_svg, optim_svg.write_xml()))\n",
    "    best_val_loss = -1e8\n",
    "    \n",
    "    grad_accumulation_steps = 1\n",
    "\n",
    "    pbar = tqdm(total=num_iterations)\n",
    "\n",
    "    for iter_idx in range(num_iterations):\n",
    "        optim_svg.zero_grad()\n",
    "        image = optim_svg.render(seed=iter_idx)\n",
    "        img = image[:, :, :3].permute(2, 0, 1).clamp(0, 1)\n",
    "\n",
    "        # img = img * mask + bg_image * (1 - mask)\n",
    "\n",
    "        mask = (img == 0).all(dim=0).unsqueeze(0).float()\n",
    "        img = (1.0 - mask) * img + mask * bg_image\n",
    "        \n",
    "        crop_frac = 0.05\n",
    "        random_size = int(random.uniform(1.0 - crop_frac, 1.0) * image.shape[1])\n",
    "        img = kornia.augmentation.RandomCrop((random_size, random_size))(img.unsqueeze(0)).squeeze(0)\n",
    "\n",
    "        img = apply_preprocessing_torch(img)\n",
    "\n",
    "        loss = aesthetic_score_gradient(evaluator, img).mean()\n",
    "\n",
    "        if iter_idx == 0 or (iter_idx + 1) % validation_steps == 0:\n",
    "            torch.cuda.empty_cache()\n",
    "            \n",
    "            aest_svg = optim_svg.write_xml()\n",
    "            cur_svg = merge_svgs(bg_svg, aest_svg)\n",
    "            cur_svg_opt = optimize_svg(cur_svg)\n",
    "            pil_image = svg_to_png_no_resize(cur_svg_opt)\n",
    "            val_loss = 0.0\n",
    "            \n",
    "            for eval_idx in range(num_eval):\n",
    "                pil_image_eval = pil_image.copy()\n",
    "                pil_image_eval = apply_random_crop_resize_seed(pil_image_eval, crop_percent=0.03, seed=eval_idx)\n",
    "                pil_image_eval = ImageProcessor(pil_image_eval).apply().image\n",
    "                val_loss += aesthetic_score_original(evaluator, pil_image_eval)\n",
    "\n",
    "            val_loss /= num_eval\n",
    "\n",
    "            # pil_image = Image.fromarray((img_bkp.detach().cpu().permute(1, 2, 0).numpy() * 255).astype(np.uint8)).convert(\"RGB\")\n",
    "\n",
    "            if val_loss > best_val_loss:\n",
    "                best_val_loss = val_loss\n",
    "                best_svg = cur_svg_opt\n",
    "            \n",
    "        pbar.set_description(\n",
    "            f\"It {iter_idx}/{num_iterations} | \"\n",
    "            f\"Loss: {loss.item():.3f} | \"\n",
    "            f\"Val Loss: {val_loss:.3f} | \"\n",
    "        )\n",
    "        pbar.update(1)\n",
    "\n",
    "        loss = -loss / grad_accumulation_steps\n",
    "        loss.backward()\n",
    "        \n",
    "        if (iter_idx + 1) % grad_accumulation_steps == 0:\n",
    "            optim_svg.step()\n",
    "\n",
    "    print(f\"Best loss: {best_val_loss}\")\n",
    "\n",
    "    return best_svg"
   ]
  },
  {
   "cell_type": "code",
   "execution_count": 12,
   "id": "b4e14526",
   "metadata": {
    "execution": {
     "iopub.execute_input": "2025-04-16T15:10:45.884781Z",
     "iopub.status.busy": "2025-04-16T15:10:45.884411Z",
     "iopub.status.idle": "2025-04-16T15:10:45.889187Z",
     "shell.execute_reply": "2025-04-16T15:10:45.888459Z"
    },
    "papermill": {
     "duration": 0.012022,
     "end_time": "2025-04-16T15:10:45.890526",
     "exception": false,
     "start_time": "2025-04-16T15:10:45.878504",
     "status": "completed"
    },
    "tags": []
   },
   "outputs": [],
   "source": [
    "#| export\n",
    "\n",
    "def optimize_svg(svg):\n",
    "    options = scour.scour.parse_args([\n",
    "        '--enable-viewboxing',\n",
    "        '--enable-id-stripping',\n",
    "        '--enable-comment-stripping',\n",
    "        '--shorten-ids',\n",
    "        '--indent=none',\n",
    "        '--strip-xml-prolog',\n",
    "        '--remove-metadata',\n",
    "        '--remove-descriptive-elements',\n",
    "        '--disable-embed-rasters',\n",
    "        '--enable-viewboxing',\n",
    "        '--create-groups',\n",
    "        '--renderer-workaround',\n",
    "        '--set-precision=2',\n",
    "    ])\n",
    "\n",
    "    svg = scour.scour.scourString(svg, options)\n",
    "    \n",
    "    svg = svg.replace('id=\"\"', '')\n",
    "    svg = svg.replace('version=\"1.0\"', '')\n",
    "    svg = svg.replace('version=\"1.1\"', '')\n",
    "    svg = svg.replace('version=\"2.0\"', '')\n",
    "    svg = svg.replace('  ', ' ')\n",
    "    svg = svg.replace('>\\n', '>')\n",
    "    \n",
    "    return svg"
   ]
  },
  {
   "cell_type": "code",
   "execution_count": 13,
   "id": "97299869",
   "metadata": {
    "execution": {
     "iopub.execute_input": "2025-04-16T15:10:45.901163Z",
     "iopub.status.busy": "2025-04-16T15:10:45.900885Z",
     "iopub.status.idle": "2025-04-16T15:10:45.910114Z",
     "shell.execute_reply": "2025-04-16T15:10:45.909365Z"
    },
    "papermill": {
     "duration": 0.016088,
     "end_time": "2025-04-16T15:10:45.911466",
     "exception": false,
     "start_time": "2025-04-16T15:10:45.895378",
     "status": "completed"
    },
    "tags": []
   },
   "outputs": [],
   "source": [
    "#| export\n",
    "\n",
    "\n",
    "class Perplexity(nn.Module):\n",
    "    def __init__(self, reduce: bool = True):\n",
    "        super().__init__()\n",
    "        self.loss_fn = nn.CrossEntropyLoss()\n",
    "        self.reduce = reduce\n",
    "\n",
    "    def forward(self, logits, labels):\n",
    "        shift_logits = logits[..., :-1, :].contiguous()\n",
    "        shift_labels = labels[..., 1:].contiguous()\n",
    "\n",
    "        perplexity = []\n",
    "        for i in range(labels.shape[0]):\n",
    "            perplexity.append(self.loss_fn(shift_logits[i], shift_labels[i]))\n",
    "        perplexity = torch.stack(perplexity, dim=0)\n",
    "        #perplexity = torch.exp(perplexity)\n",
    "        if self.reduce:\n",
    "            perplexity = torch.mean(perplexity)\n",
    "        return perplexity \n",
    "\n",
    "def vqa_score_perplexity(\n",
    "    evaluator: VQAEvaluator,\n",
    "    image: Image.Image,\n",
    "    prompt: str,\n",
    ") -> torch.Tensor:\n",
    "    image = ImageProcessor(image).apply().image\n",
    "\n",
    "    prompt = prompt[0].upper() + prompt[1:]\n",
    "    inputs = evaluator.processor(\n",
    "        images=[image],\n",
    "        text=f\"<image>describe en\\n{prompt}\",\n",
    "        return_tensors=\"pt\",\n",
    "    )\n",
    "    target_idx = evaluator.processor(\n",
    "        images=[image],\n",
    "        text=f\"<image>describe en\\n\",\n",
    "        return_tensors=\"pt\",\n",
    "    )[\"input_ids\"].shape[-1]\n",
    "    \n",
    "    with torch.no_grad():\n",
    "        inputs = {k: v.to(device_0) for k, v in inputs.items()}\n",
    "        outputs = evaluator.model(**inputs)\n",
    "\n",
    "    logits = outputs.logits[:, target_idx:]\n",
    "    labels = inputs[\"input_ids\"][:, target_idx:]\n",
    "\n",
    "    loss = Perplexity()(logits, labels)\n",
    "\n",
    "    return loss\n",
    "\n",
    "\n",
    "def select_best_svg(evaluator: VQAEvaluator, bg_svgs: list[str], prompt: str, aest_svg_path: str) -> str:\n",
    "    with open(aest_svg_path, \"r\") as f:\n",
    "        aest_svg = f.read()\n",
    "\n",
    "    scores = []\n",
    "\n",
    "    for bg_svg in bg_svgs:\n",
    "        svg = merge_svgs(bg_svg, aest_svg)\n",
    "        img = svg_to_png_no_resize(svg)\n",
    "        score = vqa_score_perplexity(evaluator, img, prompt).item()\n",
    "        scores.append(score)\n",
    "        print(score)\n",
    "\n",
    "    best_idx = np.argmax(scores)\n",
    "    best_svg = bg_svgs[best_idx]\n",
    "    \n",
    "    return best_svg"
   ]
  },
  {
   "cell_type": "code",
   "execution_count": 14,
   "id": "087eebda",
   "metadata": {
    "execution": {
     "iopub.execute_input": "2025-04-16T15:10:45.922557Z",
     "iopub.status.busy": "2025-04-16T15:10:45.922277Z",
     "iopub.status.idle": "2025-04-16T15:10:45.929383Z",
     "shell.execute_reply": "2025-04-16T15:10:45.928648Z"
    },
    "papermill": {
     "duration": 0.014301,
     "end_time": "2025-04-16T15:10:45.930854",
     "exception": false,
     "start_time": "2025-04-16T15:10:45.916553",
     "status": "completed"
    },
    "tags": []
   },
   "outputs": [],
   "source": [
    "#| export\n",
    "\n",
    "\n",
    "class Model:\n",
    "    def __init__(self):\n",
    "        self.device_0 = f\"cuda:{max(0, torch.cuda.device_count() - 2)}\"\n",
    "        self.device_1 = f\"cuda:{max(0, torch.cuda.device_count() - 1)}\"\n",
    "        \n",
    "        self.sd_config = SDConfig()\n",
    "        self.primitive_config = PrimitiveConfig()\n",
    "        self.diffvg_config = DiffvgConfig()\n",
    "        \n",
    "        self.sd_scheduler = DDIMScheduler.from_pretrained(self.sd_config.stable_diffusion_path, subfolder=\"scheduler\")\n",
    "        self.sd_pipe = StableDiffusionPipeline.from_pretrained(\n",
    "            self.sd_config.stable_diffusion_path,\n",
    "            scheduler=self.sd_scheduler,\n",
    "            torch_dtype=torch.float16,\n",
    "            safety_checker=None\n",
    "        ).to(self.device_1)\n",
    "\n",
    "        self.aesthetic_evaluator = AestheticEvaluator()\n",
    "        self.aesthetic_evaluator.predictor.to(self.device_0).eval()\n",
    "        self.aesthetic_evaluator.clip_model.to(self.device_0).eval()\n",
    "        self.aesthetic_evaluator.predictor.requires_grad_(False)\n",
    "        self.aesthetic_evaluator.clip_model.requires_grad_(False)\n",
    "\n",
    "        # self.vqa_evaluator = VQAEvaluator()\n",
    "        # self.vqa_evaluator.model.to(self.device_1).eval()\n",
    "        # self.vqa_evaluator.model.requires_grad_(False)\n",
    "\n",
    "        with open(self.diffvg_config.base_svg_path, \"r\") as f:\n",
    "            self.base_aest_svg = f.read()\n",
    "\n",
    "\n",
    "    def predict(self, prompt: str) -> str:\n",
    "        img = generate_sd_image(\n",
    "            pipe=self.sd_pipe,\n",
    "            prompt=prompt,\n",
    "            config=self.sd_config\n",
    "        )\n",
    "        bg_svg = generate_primitive_svg(\n",
    "            image=img,\n",
    "            size=self.primitive_config.width,\n",
    "            mode=self.primitive_config.mode,\n",
    "            num_shapes=self.primitive_config.num_shapes,\n",
    "        )\n",
    "        final_svg_opt = optimize_svg(merge_svgs(bg_svg, self.base_aest_svg))\n",
    "        \n",
    "        final_svg_opt = generate_diffvg_svg(\n",
    "            bg_svg=bg_svg,\n",
    "            base_svg_path=self.diffvg_config.base_svg_path,\n",
    "            evaluator=self.aesthetic_evaluator,\n",
    "            width=self.diffvg_config.width,\n",
    "            height=self.diffvg_config.height,\n",
    "            num_iterations=self.diffvg_config.num_iterations,\n",
    "            validation_steps=self.diffvg_config.validation_steps,\n",
    "            device=self.device_0\n",
    "        ) \n",
    "        # final_svg_opt = optimize_svg(final_svg)\n",
    "\n",
    "        return final_svg_opt"
   ]
  },
  {
   "cell_type": "code",
   "execution_count": 15,
   "id": "c245cf82",
   "metadata": {
    "execution": {
     "iopub.execute_input": "2025-04-16T15:10:45.941756Z",
     "iopub.status.busy": "2025-04-16T15:10:45.941363Z",
     "iopub.status.idle": "2025-04-16T15:12:46.367301Z",
     "shell.execute_reply": "2025-04-16T15:12:46.366109Z"
    },
    "papermill": {
     "duration": 120.433964,
     "end_time": "2025-04-16T15:12:46.369935",
     "exception": false,
     "start_time": "2025-04-16T15:10:45.935971",
     "status": "completed"
    },
    "tags": []
   },
   "outputs": [],
   "source": [
    "TEST = False\n",
    "\n",
    "if TEST:\n",
    "    model = Model()\n",
    "    \n",
    "    svg = model.predict(\"a blue forest at night\")\n",
    "    \n",
    "    with open(\"output.svg\", \"w\") as f:\n",
    "        f.write(svg)\n",
    "    \n",
    "    image = svg_to_png_no_resize(svg)\n",
    "    \n",
    "    display(image)"
   ]
  },
  {
   "cell_type": "code",
   "execution_count": 16,
   "id": "faefb9f3",
   "metadata": {
    "execution": {
     "iopub.execute_input": "2025-04-16T15:12:46.389203Z",
     "iopub.status.busy": "2025-04-16T15:12:46.388843Z",
     "iopub.status.idle": "2025-04-16T15:12:46.393079Z",
     "shell.execute_reply": "2025-04-16T15:12:46.392005Z"
    },
    "papermill": {
     "duration": 0.015863,
     "end_time": "2025-04-16T15:12:46.394777",
     "exception": false,
     "start_time": "2025-04-16T15:12:46.378914",
     "status": "completed"
    },
    "tags": []
   },
   "outputs": [
    {
     "name": "stdout",
     "output_type": "stream",
     "text": [
      "Creating Model instance...\n"
     ]
    },
    {
     "data": {
      "application/vnd.jupyter.widget-view+json": {
       "model_id": "bfdc606b7b96423797f33fed810f47b4",
       "version_major": 2,
       "version_minor": 0
      },
      "text/plain": [
       "Loading pipeline components...:   0%|          | 0/6 [00:00<?, ?it/s]"
      ]
     },
     "metadata": {},
     "output_type": "display_data"
    },
    {
     "name": "stdout",
     "output_type": "stream",
     "text": [
      "Running inference tests...\n"
     ]
    },
    {
     "data": {
      "application/vnd.jupyter.widget-view+json": {
       "model_id": "905f132102994193ad924b4006015189",
       "version_major": 2,
       "version_minor": 0
      },
      "text/plain": [
       "  0%|          | 0/25 [00:00<?, ?it/s]"
      ]
     },
     "metadata": {},
     "output_type": "display_data"
    },
    {
     "name": "stdout",
     "output_type": "stream",
     "text": [
      "Avg keep: 1.0\n",
      "5695\n"
     ]
    },
    {
     "data": {
      "application/vnd.jupyter.widget-view+json": {
       "model_id": "89b42539f9904bdab1bf159d682d4e73",
       "version_major": 2,
       "version_minor": 0
      },
      "text/plain": [
       "  0%|          | 0/80 [00:00<?, ?it/s]"
      ]
     },
     "metadata": {},
     "output_type": "display_data"
    },
    {
     "name": "stderr",
     "output_type": "stream",
     "text": [
      "/home/mpf/.conda/envs/dev/lib/python3.11/site-packages/torch/functional.py:539: UserWarning: torch.meshgrid: in an upcoming release, it will be required to pass the indexing argument. (Triggered internally at /pytorch/aten/src/ATen/native/TensorShape.cpp:3637.)\n",
      "  return _VF.meshgrid(tensors, **kwargs)  # type: ignore[attr-defined]\n"
     ]
    },
    {
     "name": "stdout",
     "output_type": "stream",
     "text": [
      "Best loss: 0.6016042828559875\n"
     ]
    },
    {
     "data": {
      "application/vnd.jupyter.widget-view+json": {
       "model_id": "d8ab06a9af324e69a1b2336f592c86d3",
       "version_major": 2,
       "version_minor": 0
      },
      "text/plain": [
       "  0%|          | 0/25 [00:00<?, ?it/s]"
      ]
     },
     "metadata": {},
     "output_type": "display_data"
    },
    {
     "name": "stdout",
     "output_type": "stream",
     "text": [
      "Avg keep: 1.0\n",
      "5443\n"
     ]
    },
    {
     "data": {
      "application/vnd.jupyter.widget-view+json": {
       "model_id": "79c72813f57b4234a17e51a4b0e4f9a4",
       "version_major": 2,
       "version_minor": 0
      },
      "text/plain": [
       "  0%|          | 0/80 [00:00<?, ?it/s]"
      ]
     },
     "metadata": {},
     "output_type": "display_data"
    },
    {
     "name": "stdout",
     "output_type": "stream",
     "text": [
      "Best loss: 0.5302386164665223\n"
     ]
    },
    {
     "data": {
      "application/vnd.jupyter.widget-view+json": {
       "model_id": "10fb6e35f01b4a77b431fc9874ba0bae",
       "version_major": 2,
       "version_minor": 0
      },
      "text/plain": [
       "  0%|          | 0/25 [00:00<?, ?it/s]"
      ]
     },
     "metadata": {},
     "output_type": "display_data"
    },
    {
     "name": "stdout",
     "output_type": "stream",
     "text": [
      "Avg keep: 0.9904761904761905\n",
      "5683\n"
     ]
    },
    {
     "data": {
      "application/vnd.jupyter.widget-view+json": {
       "model_id": "8de0df8c4de54b7a8a72cc9b98d3600a",
       "version_major": 2,
       "version_minor": 0
      },
      "text/plain": [
       "  0%|          | 0/80 [00:00<?, ?it/s]"
      ]
     },
     "metadata": {},
     "output_type": "display_data"
    },
    {
     "name": "stdout",
     "output_type": "stream",
     "text": [
      "Best loss: 0.5573023796081543\n"
     ]
    },
    {
     "data": {
      "application/vnd.jupyter.widget-view+json": {
       "model_id": "7c0cf73fc49040419346d5dc287ec633",
       "version_major": 2,
       "version_minor": 0
      },
      "text/plain": [
       "  0%|          | 0/25 [00:00<?, ?it/s]"
      ]
     },
     "metadata": {},
     "output_type": "display_data"
    },
    {
     "name": "stdout",
     "output_type": "stream",
     "text": [
      "Avg keep: 0.9904761904761905\n",
      "5696\n"
     ]
    },
    {
     "data": {
      "application/vnd.jupyter.widget-view+json": {
       "model_id": "d60eafd27b7646ac9b63a5eee7b5f205",
       "version_major": 2,
       "version_minor": 0
      },
      "text/plain": [
       "  0%|          | 0/80 [00:00<?, ?it/s]"
      ]
     },
     "metadata": {},
     "output_type": "display_data"
    },
    {
     "name": "stdout",
     "output_type": "stream",
     "text": [
      "Best loss: 0.5832690358161926\n"
     ]
    },
    {
     "data": {
      "application/vnd.jupyter.widget-view+json": {
       "model_id": "fd93ac733ffe4374bc480f6667478d9d",
       "version_major": 2,
       "version_minor": 0
      },
      "text/plain": [
       "  0%|          | 0/25 [00:00<?, ?it/s]"
      ]
     },
     "metadata": {},
     "output_type": "display_data"
    },
    {
     "name": "stdout",
     "output_type": "stream",
     "text": [
      "Avg keep: 1.0\n",
      "5377\n"
     ]
    },
    {
     "data": {
      "application/vnd.jupyter.widget-view+json": {
       "model_id": "112c9121f4634c44a47aa74149585101",
       "version_major": 2,
       "version_minor": 0
      },
      "text/plain": [
       "  0%|          | 0/80 [00:00<?, ?it/s]"
      ]
     },
     "metadata": {},
     "output_type": "display_data"
    },
    {
     "name": "stdout",
     "output_type": "stream",
     "text": [
      "Best loss: 0.5382219791412354\n"
     ]
    },
    {
     "data": {
      "application/vnd.jupyter.widget-view+json": {
       "model_id": "14488f7ce8b74858b55480f6466afbf3",
       "version_major": 2,
       "version_minor": 0
      },
      "text/plain": [
       "  0%|          | 0/25 [00:00<?, ?it/s]"
      ]
     },
     "metadata": {},
     "output_type": "display_data"
    },
    {
     "name": "stdout",
     "output_type": "stream",
     "text": [
      "Avg keep: 0.9904761904761905\n",
      "5681\n"
     ]
    },
    {
     "data": {
      "application/vnd.jupyter.widget-view+json": {
       "model_id": "ef461bd09b51447aad9019519d607375",
       "version_major": 2,
       "version_minor": 0
      },
      "text/plain": [
       "  0%|          | 0/80 [00:00<?, ?it/s]"
      ]
     },
     "metadata": {},
     "output_type": "display_data"
    },
    {
     "name": "stdout",
     "output_type": "stream",
     "text": [
      "Best loss: 0.5813381791114807\n"
     ]
    },
    {
     "data": {
      "application/vnd.jupyter.widget-view+json": {
       "model_id": "052786f934144cf48f42ca0f71fab8b0",
       "version_major": 2,
       "version_minor": 0
      },
      "text/plain": [
       "  0%|          | 0/25 [00:00<?, ?it/s]"
      ]
     },
     "metadata": {},
     "output_type": "display_data"
    },
    {
     "name": "stdout",
     "output_type": "stream",
     "text": [
      "Avg keep: 0.9714285714285714\n",
      "5697\n"
     ]
    },
    {
     "data": {
      "application/vnd.jupyter.widget-view+json": {
       "model_id": "5311909cc14b40cab2ac08d126885fcb",
       "version_major": 2,
       "version_minor": 0
      },
      "text/plain": [
       "  0%|          | 0/80 [00:00<?, ?it/s]"
      ]
     },
     "metadata": {},
     "output_type": "display_data"
    },
    {
     "name": "stdout",
     "output_type": "stream",
     "text": [
      "Best loss: 0.5057708978652954\n"
     ]
    },
    {
     "data": {
      "application/vnd.jupyter.widget-view+json": {
       "model_id": "d74ab2a31e5e4b2abcf071aa102d662e",
       "version_major": 2,
       "version_minor": 0
      },
      "text/plain": [
       "  0%|          | 0/25 [00:00<?, ?it/s]"
      ]
     },
     "metadata": {},
     "output_type": "display_data"
    },
    {
     "name": "stdout",
     "output_type": "stream",
     "text": [
      "Avg keep: 0.9809523809523809\n",
      "5673\n"
     ]
    },
    {
     "data": {
      "application/vnd.jupyter.widget-view+json": {
       "model_id": "14829f9ed3814662bbdabe988e2b2ba3",
       "version_major": 2,
       "version_minor": 0
      },
      "text/plain": [
       "  0%|          | 0/80 [00:00<?, ?it/s]"
      ]
     },
     "metadata": {},
     "output_type": "display_data"
    },
    {
     "name": "stdout",
     "output_type": "stream",
     "text": [
      "Best loss: 0.5345513820648193\n"
     ]
    },
    {
     "data": {
      "application/vnd.jupyter.widget-view+json": {
       "model_id": "2834b53ffee24f68b35539ffa220196d",
       "version_major": 2,
       "version_minor": 0
      },
      "text/plain": [
       "  0%|          | 0/25 [00:00<?, ?it/s]"
      ]
     },
     "metadata": {},
     "output_type": "display_data"
    },
    {
     "name": "stdout",
     "output_type": "stream",
     "text": [
      "Avg keep: 0.9904761904761905\n",
      "5646\n"
     ]
    },
    {
     "data": {
      "application/vnd.jupyter.widget-view+json": {
       "model_id": "585208f2003e488e898b67f6860b5774",
       "version_major": 2,
       "version_minor": 0
      },
      "text/plain": [
       "  0%|          | 0/80 [00:00<?, ?it/s]"
      ]
     },
     "metadata": {},
     "output_type": "display_data"
    },
    {
     "name": "stdout",
     "output_type": "stream",
     "text": [
      "Best loss: 0.4808474540710449\n"
     ]
    },
    {
     "data": {
      "application/vnd.jupyter.widget-view+json": {
       "model_id": "8cd857cd7e384eaf8beca2f684391dce",
       "version_major": 2,
       "version_minor": 0
      },
      "text/plain": [
       "  0%|          | 0/25 [00:00<?, ?it/s]"
      ]
     },
     "metadata": {},
     "output_type": "display_data"
    },
    {
     "name": "stdout",
     "output_type": "stream",
     "text": [
      "Avg keep: 0.9809523809523809\n",
      "5669\n"
     ]
    },
    {
     "data": {
      "application/vnd.jupyter.widget-view+json": {
       "model_id": "29ea4f679c934d2e82cb416b962eda2d",
       "version_major": 2,
       "version_minor": 0
      },
      "text/plain": [
       "  0%|          | 0/80 [00:00<?, ?it/s]"
      ]
     },
     "metadata": {},
     "output_type": "display_data"
    },
    {
     "name": "stdout",
     "output_type": "stream",
     "text": [
      "Best loss: 0.5421189308166503\n"
     ]
    },
    {
     "data": {
      "application/vnd.jupyter.widget-view+json": {
       "model_id": "2666c83f7bb24390ac758ea9d8d417c4",
       "version_major": 2,
       "version_minor": 0
      },
      "text/plain": [
       "  0%|          | 0/25 [00:00<?, ?it/s]"
      ]
     },
     "metadata": {},
     "output_type": "display_data"
    },
    {
     "name": "stdout",
     "output_type": "stream",
     "text": [
      "Avg keep: 0.9714285714285714\n",
      "5690\n"
     ]
    },
    {
     "data": {
      "application/vnd.jupyter.widget-view+json": {
       "model_id": "997a972d3b5f4aacb208238d45f3c1b3",
       "version_major": 2,
       "version_minor": 0
      },
      "text/plain": [
       "  0%|          | 0/80 [00:00<?, ?it/s]"
      ]
     },
     "metadata": {},
     "output_type": "display_data"
    },
    {
     "name": "stdout",
     "output_type": "stream",
     "text": [
      "Best loss: 0.5669230818748474\n"
     ]
    },
    {
     "data": {
      "application/vnd.jupyter.widget-view+json": {
       "model_id": "394ded9efb2c4ae9bac698e37debc7a6",
       "version_major": 2,
       "version_minor": 0
      },
      "text/plain": [
       "  0%|          | 0/25 [00:00<?, ?it/s]"
      ]
     },
     "metadata": {},
     "output_type": "display_data"
    },
    {
     "name": "stdout",
     "output_type": "stream",
     "text": [
      "Avg keep: 1.0\n",
      "5587\n"
     ]
    },
    {
     "data": {
      "application/vnd.jupyter.widget-view+json": {
       "model_id": "9894311f0a414bb3b3d2c00bb3a04f2b",
       "version_major": 2,
       "version_minor": 0
      },
      "text/plain": [
       "  0%|          | 0/80 [00:00<?, ?it/s]"
      ]
     },
     "metadata": {},
     "output_type": "display_data"
    },
    {
     "name": "stdout",
     "output_type": "stream",
     "text": [
      "Best loss: 0.5325368523597717\n"
     ]
    },
    {
     "data": {
      "application/vnd.jupyter.widget-view+json": {
       "model_id": "c4c84161a77e4ae5b28d7f9b69cabc2c",
       "version_major": 2,
       "version_minor": 0
      },
      "text/plain": [
       "  0%|          | 0/25 [00:00<?, ?it/s]"
      ]
     },
     "metadata": {},
     "output_type": "display_data"
    },
    {
     "name": "stdout",
     "output_type": "stream",
     "text": [
      "Avg keep: 1.0\n",
      "5666\n"
     ]
    },
    {
     "data": {
      "application/vnd.jupyter.widget-view+json": {
       "model_id": "cf300a89263b4067862a0e0c508ec99a",
       "version_major": 2,
       "version_minor": 0
      },
      "text/plain": [
       "  0%|          | 0/80 [00:00<?, ?it/s]"
      ]
     },
     "metadata": {},
     "output_type": "display_data"
    },
    {
     "name": "stdout",
     "output_type": "stream",
     "text": [
      "Best loss: 0.5775335431098938\n"
     ]
    },
    {
     "data": {
      "application/vnd.jupyter.widget-view+json": {
       "model_id": "0425ffca154e43209a3835c3a7e895e6",
       "version_major": 2,
       "version_minor": 0
      },
      "text/plain": [
       "  0%|          | 0/25 [00:00<?, ?it/s]"
      ]
     },
     "metadata": {},
     "output_type": "display_data"
    },
    {
     "name": "stdout",
     "output_type": "stream",
     "text": [
      "Avg keep: 1.0\n",
      "5694\n"
     ]
    },
    {
     "data": {
      "application/vnd.jupyter.widget-view+json": {
       "model_id": "4883aa7475be4217abf7bdb05e2c796d",
       "version_major": 2,
       "version_minor": 0
      },
      "text/plain": [
       "  0%|          | 0/80 [00:00<?, ?it/s]"
      ]
     },
     "metadata": {},
     "output_type": "display_data"
    },
    {
     "name": "stdout",
     "output_type": "stream",
     "text": [
      "Best loss: 0.5166812181472779\n"
     ]
    },
    {
     "data": {
      "application/vnd.jupyter.widget-view+json": {
       "model_id": "0d9defb812b94bf4879cf43f2f6d3cec",
       "version_major": 2,
       "version_minor": 0
      },
      "text/plain": [
       "  0%|          | 0/25 [00:00<?, ?it/s]"
      ]
     },
     "metadata": {},
     "output_type": "display_data"
    },
    {
     "name": "stdout",
     "output_type": "stream",
     "text": [
      "Avg keep: 1.0\n",
      "5495\n"
     ]
    },
    {
     "data": {
      "application/vnd.jupyter.widget-view+json": {
       "model_id": "0cf2ef0686414d9ba113c4270b32a2c9",
       "version_major": 2,
       "version_minor": 0
      },
      "text/plain": [
       "  0%|          | 0/80 [00:00<?, ?it/s]"
      ]
     },
     "metadata": {},
     "output_type": "display_data"
    },
    {
     "name": "stdout",
     "output_type": "stream",
     "text": [
      "Best loss: 0.5296366095542908\n",
      "Wrote test submission file to \"/tmp/kaggle-evaluation-submission-sy3hgaxv.csv\".\n",
      "Success!\n",
      "CPU times: user 2min 40s, sys: 12.4 s, total: 2min 52s\n",
      "Wall time: 3min 46s\n"
     ]
    }
   ],
   "source": [
    "%%time\n",
    "from pathlib import Path\n",
    "import pandas as pd\n",
    "import shutil\n",
    "import torch\n",
    "import kagglehub\n",
    "import kaggle_evaluation\n",
    "import json\n",
    "import numpy as np\n",
    "\n",
    "drawing_with_llms_path = kagglehub.competition_download('drawing-with-llms')\n",
    "\n",
    "comp_path = Path(\"/tmp/drawing-with-llms\")\n",
    "\n",
    "if not comp_path.exists():\n",
    "    shutil.copytree(str(drawing_with_llms_path), comp_path)\n",
    "\n",
    "shutil.copyfile(comp_path / 'train.csv', comp_path / 'test.csv')\n",
    "train_df = pd.read_csv(comp_path / 'train.csv')\n",
    "train_question_df = pd.read_parquet(comp_path / 'questions.parquet')\n",
    "\n",
    "kaggle_evaluation.test(Model, comp_path)"
   ]
  },
  {
   "cell_type": "code",
   "execution_count": 17,
   "id": "0e2eb4ba",
   "metadata": {},
   "outputs": [],
   "source": [
    "# %%time\n",
    "# from pathlib import Path\n",
    "# import pandas as pd\n",
    "# import shutil\n",
    "# import torch\n",
    "# import kagglehub\n",
    "# import kaggle_evaluation\n",
    "# import json\n",
    "# import numpy as np\n",
    "\n",
    "\n",
    "# data_path = Path(kagglehub.dataset_download(\"raresbarbantan/draw-svg-validation\")) / \"validation.csv\"\n",
    "# train_question_df = pd.read_csv(data_path).head(10)\n",
    "\n",
    "# comp_path = Path(\"/tmp/drawing-with-llms\")\n",
    "\n",
    "# id_map = {}\n",
    "\n",
    "# for idx, row in train_question_df.iterrows():\n",
    "#     id_map[row[\"id\"]] = row[\"description\"]\n",
    "\n",
    "# train_df = pd.DataFrame([{\"id\": k, \"question\": v} for k, v in id_map.items()])\n",
    "\n",
    "# train_df.to_csv(comp_path / 'test.csv', index=False)\n",
    "\n",
    "# kaggle_evaluation.test(Model, comp_path)"
   ]
  },
  {
   "cell_type": "code",
   "execution_count": 18,
   "id": "3eb9ae27",
   "metadata": {
    "execution": {
     "iopub.execute_input": "2025-04-16T15:12:46.413036Z",
     "iopub.status.busy": "2025-04-16T15:12:46.412709Z",
     "iopub.status.idle": "2025-04-16T15:12:46.416221Z",
     "shell.execute_reply": "2025-04-16T15:12:46.415343Z"
    },
    "papermill": {
     "duration": 0.014579,
     "end_time": "2025-04-16T15:12:46.417870",
     "exception": false,
     "start_time": "2025-04-16T15:12:46.403291",
     "status": "completed"
    },
    "tags": []
   },
   "outputs": [],
   "source": [
    "# !cp /tmp/kaggle-evaluation-submission-vthrz0cx.csv pred.csv"
   ]
  },
  {
   "cell_type": "code",
   "execution_count": 19,
   "id": "08e64150",
   "metadata": {
    "execution": {
     "iopub.execute_input": "2025-04-16T15:12:46.436855Z",
     "iopub.status.busy": "2025-04-16T15:12:46.436494Z",
     "iopub.status.idle": "2025-04-16T15:12:46.805505Z",
     "shell.execute_reply": "2025-04-16T15:12:46.804845Z"
    },
    "jupyter": {
     "source_hidden": true
    },
    "papermill": {
     "duration": 0.380337,
     "end_time": "2025-04-16T15:12:46.807201",
     "exception": false,
     "start_time": "2025-04-16T15:12:46.426864",
     "status": "completed"
    },
    "tags": []
   },
   "outputs": [],
   "source": [
    "import ast\n",
    "import io\n",
    "import math\n",
    "import statistics\n",
    "import string\n",
    "\n",
    "import cairosvg\n",
    "import clip\n",
    "import cv2\n",
    "import kagglehub\n",
    "import matplotlib.pyplot as plt\n",
    "import numpy as np\n",
    "import pandas as pd\n",
    "import torch\n",
    "import torch.nn as nn\n",
    "from more_itertools import chunked\n",
    "from PIL import Image, ImageFilter\n",
    "from transformers import (\n",
    "    AutoProcessor,\n",
    "    BitsAndBytesConfig,\n",
    "    PaliGemmaForConditionalGeneration,\n",
    ")\n",
    "\n",
    "svg_constraints = kagglehub.package_import('metric/svg-constraints', bypass_confirmation=True)\n",
    "\n",
    "\n",
    "device_0 = f\"cuda:{max(0, torch.cuda.device_count() - 2)}\"\n",
    "device_1 = device_0\n",
    "\n",
    "class ParticipantVisibleError(Exception):\n",
    "    pass\n",
    "\n",
    "\n",
    "def score(\n",
    "    solution: pd.DataFrame, submission: pd.DataFrame, row_id_column_name: str, random_seed: int = 0\n",
    ") -> float:\n",
    "    \"\"\"Calculates a fidelity score by comparing generated SVG images to target text descriptions.\n",
    "\n",
    "    Parameters\n",
    "    ----------\n",
    "    solution : pd.DataFrame\n",
    "        A DataFrame containing target questions, choices, and answers about an SVG image.\n",
    "    submission : pd.DataFrame\n",
    "        A DataFrame containing generated SVG strings. Must have a column named 'svg'.\n",
    "    row_id_column_name : str\n",
    "        The name of the column containing row identifiers. This column is removed before scoring.\n",
    "    random_seed : int\n",
    "        A seed to set the random state.\n",
    "\n",
    "    Returns\n",
    "    -------\n",
    "    float\n",
    "        The mean fidelity score (a value between 0 and 1) representing the average similarity between the generated SVGs and their descriptions.\n",
    "        A higher score indicates better fidelity.\n",
    "\n",
    "    Raises\n",
    "    ------\n",
    "    ParticipantVisibleError\n",
    "        If the 'svg' column in the submission DataFrame is not of string type or if validation of the SVG fails.\n",
    "\n",
    "    Examples\n",
    "    --------\n",
    "    >>> import pandas as pd\n",
    "    >>> solution = pd.DataFrame({\n",
    "    ...     'id': [\"abcde\"],\n",
    "    ...     'question': ['[\"Is there a red circle?\", \"What shape is present?\"]'],\n",
    "    ...     'choices': ['[[\"yes\", \"no\"], [\"square\", \"circle\", \"triangle\", \"hexagon\"]]'],\n",
    "    ...     'answer': ['[\"yes\", \"circle\"]'],\n",
    "    ... })\n",
    "    >>> submission = pd.DataFrame({\n",
    "    ...     'id': [\"abcde\"],\n",
    "    ...     'svg': ['<svg viewBox=\"0 0 100 100\"><circle cx=\"50\" cy=\"50\" r=\"40\" fill=\"red\"/></svg>'],\n",
    "    ... })\n",
    "    >>> score(solution, submission, 'row_id', random_seed=42)\n",
    "    0...\n",
    "    \"\"\"\n",
    "    # Convert solution fields to list dtypes and expand\n",
    "    for colname in ['question', 'choices', 'answer']:\n",
    "        solution[colname] = solution[colname].apply(ast.literal_eval)\n",
    "    # solution = solution.explode(['question', 'choices', 'answer'])\n",
    "\n",
    "    # Validate\n",
    "    if not pd.api.types.is_string_dtype(submission.loc[:, 'svg']):\n",
    "        raise ParticipantVisibleError('svg must be a string.')\n",
    "\n",
    "    # Check that SVG code meets defined constraints\n",
    "    constraints = svg_constraints.SVGConstraints()\n",
    "    try:\n",
    "        for svg in submission.loc[:, 'svg']:\n",
    "            constraints.validate_svg(svg)\n",
    "    except:\n",
    "        raise ParticipantVisibleError('SVG code violates constraints.')\n",
    "\n",
    "    # Score\n",
    "    vqa_evaluator = VQAEvaluator()\n",
    "    aesthetic_evaluator = AestheticEvaluator()\n",
    "\n",
    "    results = []\n",
    "    all_scores = []\n",
    "    rng = np.random.RandomState(random_seed)\n",
    "    try:\n",
    "        df = solution.merge(submission, on='id')\n",
    "        for i, (_, group) in enumerate(df.loc[\n",
    "            :, ['id', 'question', 'choices', 'answer', 'svg']\n",
    "        ].groupby('id')):\n",
    "            questions, choices, answers, svg = [\n",
    "                group[col_name].to_list()\n",
    "                for col_name in group.drop('id', axis=1).columns\n",
    "            ]\n",
    "            svg = svg[0]  # unpack singleton from list\n",
    "            group_seed = rng.randint(0, np.iinfo(np.int32).max)\n",
    "            image_processor = ImageProcessor(image=svg_to_png(svg), seed=group_seed).apply()\n",
    "            image = image_processor.image.copy()\n",
    "            aesthetic_score = aesthetic_evaluator.score(image)\n",
    "            vqa_score = vqa_evaluator.score(questions, choices, answers, image)\n",
    "            image_processor.reset().apply_random_crop_resize().apply_jpeg_compression(quality=90)\n",
    "            ocr_score = vqa_evaluator.ocr(image_processor.image)\n",
    "            instance_score = (\n",
    "                harmonic_mean(vqa_score, aesthetic_score, beta=0.5) * ocr_score\n",
    "            )\n",
    "            results.append(instance_score)\n",
    "            all_scores.append((instance_score, vqa_score, aesthetic_score, ocr_score))\n",
    "\n",
    "    except:\n",
    "        raise ParticipantVisibleError('SVG failed to score.')\n",
    "\n",
    "    fidelity = statistics.mean(results)\n",
    "    return float(fidelity), all_scores\n",
    "\n",
    "\n",
    "class VQAEvaluator:\n",
    "    \"\"\"Evaluates images based on their similarity to a given text description using multiple choice questions.\"\"\"\n",
    "\n",
    "    def __init__(self):\n",
    "        self.quantization_config = BitsAndBytesConfig(\n",
    "            load_in_4bit=True,\n",
    "            bnb_4bit_quant_type='nf4',\n",
    "            bnb_4bit_use_double_quant=True,\n",
    "            bnb_4bit_compute_dtype=torch.float16,\n",
    "        )\n",
    "        self.letters = string.ascii_uppercase\n",
    "        self.model_path = kagglehub.model_download(\n",
    "            'google/paligemma-2/transformers/paligemma2-10b-mix-448'\n",
    "        )\n",
    "        self.processor = AutoProcessor.from_pretrained(self.model_path)\n",
    "        self.model = PaliGemmaForConditionalGeneration.from_pretrained(\n",
    "            self.model_path,\n",
    "            low_cpu_mem_usage=True,\n",
    "            quantization_config=self.quantization_config,\n",
    "        ).to(device_1)\n",
    "\n",
    "    def score(self, questions, choices, answers, image, n=4):\n",
    "        scores = []\n",
    "        batches = (chunked(qs, n) for qs in [questions, choices, answers])\n",
    "        for question_batch, choice_batch, answer_batch in zip(*batches, strict=True):\n",
    "            scores.extend(\n",
    "                self.score_batch(\n",
    "                    image,\n",
    "                    question_batch,\n",
    "                    choice_batch,\n",
    "                    answer_batch,\n",
    "                )\n",
    "            )\n",
    "        return statistics.mean(scores)\n",
    "\n",
    "    def score_batch(\n",
    "        self,\n",
    "        image: Image.Image,\n",
    "        questions: list[str],\n",
    "        choices_list: list[list[str]],\n",
    "        answers: list[str],\n",
    "    ) -> list[float]:\n",
    "        \"\"\"Evaluates the image based on multiple choice questions and answers.\n",
    "\n",
    "        Parameters\n",
    "        ----------\n",
    "        image : PIL.Image.Image\n",
    "            The image to evaluate.\n",
    "        questions : list[str]\n",
    "            List of questions about the image.\n",
    "        choices_list : list[list[str]]\n",
    "            List of lists of possible answer choices, corresponding to each question.\n",
    "        answers : list[str]\n",
    "            List of correct answers from the choices, corresponding to each question.\n",
    "\n",
    "        Returns\n",
    "        -------\n",
    "        list[float]\n",
    "            List of scores (values between 0 and 1) representing the probability of the correct answer for each question.\n",
    "        \"\"\"\n",
    "        prompts = [\n",
    "            self.format_prompt(question, choices)\n",
    "            for question, choices in zip(questions, choices_list, strict=True)\n",
    "        ]\n",
    "        batched_choice_probabilities = self.get_choice_probability(\n",
    "            image, prompts, choices_list\n",
    "        )\n",
    "\n",
    "        scores = []\n",
    "        for i, _ in enumerate(questions):\n",
    "            choice_probabilities = batched_choice_probabilities[i]\n",
    "            answer = answers[i]\n",
    "            answer_probability = 0.0\n",
    "            for choice, prob in choice_probabilities.items():\n",
    "                if choice == answer:\n",
    "                    answer_probability = prob\n",
    "                    break\n",
    "            scores.append(answer_probability)\n",
    "\n",
    "        return scores\n",
    "\n",
    "    def format_prompt(self, question: str, choices: list[str]) -> str:\n",
    "        prompt = f'<image>answer en Question: {question}\\nChoices:\\n'\n",
    "        for i, choice in enumerate(choices):\n",
    "            prompt += f'{self.letters[i]}. {choice}\\n'\n",
    "        return prompt\n",
    "\n",
    "    def mask_choices(self, logits, choices_list):\n",
    "        \"\"\"Masks logits for the first token of each choice letter for each question in the batch.\"\"\"\n",
    "        batch_size = logits.shape[0]\n",
    "        masked_logits = torch.full_like(logits, float('-inf'))\n",
    "\n",
    "        for batch_idx in range(batch_size):\n",
    "            choices = choices_list[batch_idx]\n",
    "            for i in range(len(choices)):\n",
    "                letter_token = self.letters[i]\n",
    "\n",
    "                first_token = self.processor.tokenizer.encode(\n",
    "                    letter_token, add_special_tokens=False\n",
    "                )[0]\n",
    "                first_token_with_space = self.processor.tokenizer.encode(\n",
    "                    ' ' + letter_token, add_special_tokens=False\n",
    "                )[0]\n",
    "\n",
    "                if isinstance(first_token, int):\n",
    "                    masked_logits[batch_idx, first_token] = logits[\n",
    "                        batch_idx, first_token\n",
    "                    ]\n",
    "                if isinstance(first_token_with_space, int):\n",
    "                    masked_logits[batch_idx, first_token_with_space] = logits[\n",
    "                        batch_idx, first_token_with_space\n",
    "                    ]\n",
    "\n",
    "        return masked_logits\n",
    "\n",
    "    def get_choice_probability(self, image, prompts, choices_list) -> list[dict]:\n",
    "        inputs = self.processor(\n",
    "            images=[image] * len(prompts),\n",
    "            text=prompts,\n",
    "            return_tensors='pt',\n",
    "            padding='longest',\n",
    "        ).to(device_0)\n",
    "\n",
    "        with torch.no_grad():\n",
    "            outputs = self.model(**inputs)\n",
    "            logits = outputs.logits[:, -1, :]  # Logits for the last (predicted) token\n",
    "            masked_logits = self.mask_choices(logits, choices_list)\n",
    "            probabilities = torch.softmax(masked_logits, dim=-1)\n",
    "\n",
    "        batched_choice_probabilities = []\n",
    "        for batch_idx in range(len(prompts)):\n",
    "            choice_probabilities = {}\n",
    "            choices = choices_list[batch_idx]\n",
    "            for i, choice in enumerate(choices):\n",
    "                letter_token = self.letters[i]\n",
    "                first_token = self.processor.tokenizer.encode(\n",
    "                    letter_token, add_special_tokens=False\n",
    "                )[0]\n",
    "                first_token_with_space = self.processor.tokenizer.encode(\n",
    "                    ' ' + letter_token, add_special_tokens=False\n",
    "                )[0]\n",
    "\n",
    "                prob = 0.0\n",
    "                if isinstance(first_token, int):\n",
    "                    prob += probabilities[batch_idx, first_token].item()\n",
    "                if isinstance(first_token_with_space, int):\n",
    "                    prob += probabilities[batch_idx, first_token_with_space].item()\n",
    "                choice_probabilities[choice] = prob\n",
    "\n",
    "            # Renormalize probabilities for each question\n",
    "            total_prob = sum(choice_probabilities.values())\n",
    "            if total_prob > 0:\n",
    "                renormalized_probabilities = {\n",
    "                    choice: prob / total_prob\n",
    "                    for choice, prob in choice_probabilities.items()\n",
    "                }\n",
    "            else:\n",
    "                renormalized_probabilities = (\n",
    "                    choice_probabilities  # Avoid division by zero if total_prob is 0\n",
    "                )\n",
    "            batched_choice_probabilities.append(renormalized_probabilities)\n",
    "\n",
    "        return batched_choice_probabilities\n",
    "\n",
    "    def ocr(self, image, free_chars=4):\n",
    "        inputs = (\n",
    "            self.processor(\n",
    "                text='<image>ocr\\n',\n",
    "                images=image,\n",
    "                return_tensors='pt',\n",
    "            )\n",
    "            .to(torch.float16)\n",
    "            .to(self.model.device)\n",
    "        )\n",
    "        input_len = inputs['input_ids'].shape[-1]\n",
    "\n",
    "        with torch.inference_mode():\n",
    "            outputs = self.model.generate(**inputs, max_new_tokens=32, do_sample=False)\n",
    "            outputs = outputs[0][input_len:]\n",
    "            decoded = self.processor.decode(outputs, skip_special_tokens=True)\n",
    "\n",
    "        num_char = len(decoded)\n",
    "\n",
    "        # Exponentially decreasing towards 0.0 if more than free_chars detected\n",
    "        return min(1.0, math.exp(-num_char + free_chars))\n",
    "\n",
    "\n",
    "class AestheticPredictor(nn.Module):\n",
    "    def __init__(self, input_size):\n",
    "        super().__init__()\n",
    "        self.input_size = input_size\n",
    "        self.layers = nn.Sequential(\n",
    "            nn.Linear(self.input_size, 1024),\n",
    "            nn.Dropout(0.2),\n",
    "            nn.Linear(1024, 128),\n",
    "            nn.Dropout(0.2),\n",
    "            nn.Linear(128, 64),\n",
    "            nn.Dropout(0.1),\n",
    "            nn.Linear(64, 16),\n",
    "            nn.Linear(16, 1),\n",
    "        )\n",
    "\n",
    "    def forward(self, x):\n",
    "        return self.layers(x)\n",
    "\n",
    "\n",
    "class AestheticEvaluator:\n",
    "    def __init__(self):\n",
    "        # self.model_path = '/kaggle/input/sac-logos-ava1-l14-linearmse/sac+logos+ava1-l14-linearMSE.pth'\n",
    "        # self.clip_model_path = '/kaggle/input/openai-clip-vit-large-patch14/ViT-L-14.pt'\n",
    "        self.model_path = str(kagglehub.model_download(\"jiazhuang/sac-logos-ava1-l14-linearmse/Transformers/default/1\", path=\"sac+logos+ava1-l14-linearMSE.pth\"))\n",
    "        self.clip_model_path = str(kagglehub.model_download(\"jiazhuang/clip-vit-large-patch14/Transformers/default/1\", path=\"ViT-L-14.pt\"))\n",
    "        self.predictor, self.clip_model, self.preprocessor = self.load()\n",
    "\n",
    "    def load(self):\n",
    "        \"\"\"Loads the aesthetic predictor model and CLIP model.\"\"\"\n",
    "        state_dict = torch.load(self.model_path, weights_only=True, map_location=device_0)\n",
    "\n",
    "        # CLIP embedding dim is 768 for CLIP ViT L 14\n",
    "        predictor = AestheticPredictor(768)\n",
    "        predictor.load_state_dict(state_dict)\n",
    "        predictor.to(device_0)\n",
    "        predictor.eval()\n",
    "        clip_model, preprocessor = clip.load(self.clip_model_path, device=device_0)\n",
    "\n",
    "        return predictor, clip_model, preprocessor\n",
    "\n",
    "    def score(self, image: Image.Image) -> float:\n",
    "        \"\"\"Predicts the CLIP aesthetic score of an image.\"\"\"\n",
    "        image = self.preprocessor(image).unsqueeze(0).to(device_0)\n",
    "\n",
    "        with torch.no_grad():\n",
    "            image_features = self.clip_model.encode_image(image)\n",
    "            # l2 normalize\n",
    "            image_features /= image_features.norm(dim=-1, keepdim=True)\n",
    "            image_features = image_features.cpu().detach().numpy()\n",
    "\n",
    "        score = self.predictor(torch.from_numpy(image_features).to(device_0).float())\n",
    "\n",
    "        return score.item() / 10.0  # scale to [0, 1]\n",
    "\n",
    "\n",
    "def harmonic_mean(a: float, b: float, beta: float = 1.0) -> float:\n",
    "    \"\"\"\n",
    "    Calculate the harmonic mean of two values, weighted using a beta parameter.\n",
    "\n",
    "    Args:\n",
    "        a: First value (e.g., precision)\n",
    "        b: Second value (e.g., recall)\n",
    "        beta: Weighting parameter\n",
    "\n",
    "    Returns:\n",
    "        Weighted harmonic mean\n",
    "    \"\"\"\n",
    "    # Handle zero values to prevent division by zero\n",
    "    if a <= 0 or b <= 0:\n",
    "        return 0.0\n",
    "    return (1 + beta**2) * (a * b) / (beta**2 * a + b)\n",
    "\n",
    "\n",
    "def svg_to_png(svg_code: str, size: tuple = (384, 384)) -> Image.Image:\n",
    "    \"\"\"\n",
    "    Converts an SVG string to a PNG image using CairoSVG.\n",
    "\n",
    "    If the SVG does not define a `viewBox`, it will add one using the provided size.\n",
    "\n",
    "    Parameters\n",
    "    ----------\n",
    "    svg_code : str\n",
    "        The SVG string to convert.\n",
    "    size : tuple[int, int], default=(384, 384)\n",
    "        The desired size of the output PNG image (width, height).\n",
    "\n",
    "    Returns\n",
    "    -------\n",
    "    PIL.Image.Image\n",
    "        The generated PNG image.\n",
    "    \"\"\"\n",
    "    # Ensure SVG has proper size attributes\n",
    "    if 'viewBox' not in svg_code:\n",
    "        svg_code = svg_code.replace('<svg', f'<svg viewBox=\"0 0 {size[0]} {size[1]}\"')\n",
    "\n",
    "    # Convert SVG to PNG\n",
    "    png_data = cairosvg.svg2png(bytestring=svg_code.encode('utf-8'))\n",
    "    return Image.open(io.BytesIO(png_data)).convert('RGB').resize(size)\n",
    "\n",
    "\n",
    "class ImageProcessor:\n",
    "    def __init__(self, image: Image.Image, seed=None):\n",
    "        \"\"\"Initialize with either a path to an image or a PIL Image object.\"\"\"\n",
    "        self.image = image\n",
    "        self.original_image = self.image.copy()\n",
    "        if seed is not None:\n",
    "            self.rng = np.random.RandomState(seed)\n",
    "        else:\n",
    "            self.rng = np.random\n",
    "\n",
    "    def reset(self):\n",
    "        self.image = self.original_image.copy()\n",
    "        return self\n",
    "    \n",
    "    def visualize_comparison(\n",
    "        self,\n",
    "        original_name='Original',\n",
    "        processed_name='Processed',\n",
    "        figsize=(10, 5),\n",
    "        show=True,\n",
    "    ):\n",
    "        \"\"\"Display original and processed images side by side.\"\"\"\n",
    "        fig, (ax1, ax2) = plt.subplots(1, 2, figsize=figsize)\n",
    "        ax1.imshow(np.asarray(self.original_image))\n",
    "        ax1.set_title(original_name)\n",
    "        ax1.axis('off')\n",
    "\n",
    "        ax2.imshow(np.asarray(self.image))\n",
    "        ax2.set_title(processed_name)\n",
    "        ax2.axis('off')\n",
    "\n",
    "        title = f'{original_name} vs {processed_name}'\n",
    "        fig.suptitle(title)\n",
    "        fig.tight_layout()\n",
    "        if show:\n",
    "            plt.show()\n",
    "        return fig\n",
    "\n",
    "    def apply_median_filter(self, size=3):\n",
    "        \"\"\"Apply median filter to remove outlier pixel values.\n",
    "\n",
    "        Args:\n",
    "            size: Size of the median filter window.\n",
    "        \"\"\"\n",
    "        self.image = self.image.filter(ImageFilter.MedianFilter(size=size))\n",
    "        return self\n",
    "\n",
    "    def apply_bilateral_filter(self, d=9, sigma_color=75, sigma_space=75):\n",
    "        \"\"\"Apply bilateral filter to smooth while preserving edges.\n",
    "\n",
    "        Args:\n",
    "            d: Diameter of each pixel neighborhood\n",
    "            sigma_color: Filter sigma in the color space\n",
    "            sigma_space: Filter sigma in the coordinate space\n",
    "        \"\"\"\n",
    "        # Convert PIL Image to numpy array for OpenCV\n",
    "        img_array = np.asarray(self.image)\n",
    "\n",
    "        # Apply bilateral filter\n",
    "        filtered = cv2.bilateralFilter(img_array, d, sigma_color, sigma_space)\n",
    "\n",
    "        # Convert back to PIL Image\n",
    "        self.image = Image.fromarray(filtered)\n",
    "        return self\n",
    "\n",
    "    def apply_fft_low_pass(self, cutoff_frequency=0.5):\n",
    "        \"\"\"Apply low-pass filter in the frequency domain using FFT.\n",
    "\n",
    "        Args:\n",
    "            cutoff_frequency: Normalized cutoff frequency (0-1).\n",
    "                Lower values remove more high frequencies.\n",
    "        \"\"\"\n",
    "        # Convert to numpy array, ensuring float32 for FFT\n",
    "        img_array = np.array(self.image, dtype=np.float32)\n",
    "\n",
    "        # Process each color channel separately\n",
    "        result = np.zeros_like(img_array)\n",
    "        for i in range(3):  # For RGB channels\n",
    "            # Apply FFT\n",
    "            f = np.fft.fft2(img_array[:, :, i])\n",
    "            fshift = np.fft.fftshift(f)\n",
    "\n",
    "            # Create a low-pass filter mask\n",
    "            rows, cols = img_array[:, :, i].shape\n",
    "            crow, ccol = rows // 2, cols // 2\n",
    "            mask = np.zeros((rows, cols), np.float32)\n",
    "            r = int(min(crow, ccol) * cutoff_frequency)\n",
    "            center = [crow, ccol]\n",
    "            x, y = np.ogrid[:rows, :cols]\n",
    "            mask_area = (x - center[0]) ** 2 + (y - center[1]) ** 2 <= r * r\n",
    "            mask[mask_area] = 1\n",
    "\n",
    "            # Apply mask and inverse FFT\n",
    "            fshift_filtered = fshift * mask\n",
    "            f_ishift = np.fft.ifftshift(fshift_filtered)\n",
    "            img_back = np.fft.ifft2(f_ishift)\n",
    "            img_back = np.real(img_back)\n",
    "\n",
    "            result[:, :, i] = img_back\n",
    "\n",
    "        # Clip to 0-255 range and convert to uint8 after processing all channels\n",
    "        result = np.clip(result, 0, 255).astype(np.uint8)\n",
    "\n",
    "        # Convert back to PIL Image\n",
    "        self.image = Image.fromarray(result)\n",
    "        return self\n",
    "\n",
    "    def apply_jpeg_compression(self, quality=85):\n",
    "        \"\"\"Apply JPEG compression.\n",
    "\n",
    "        Args:\n",
    "            quality: JPEG quality (0-95). Lower values increase compression.\n",
    "        \"\"\"\n",
    "        buffer = io.BytesIO()\n",
    "        self.image.save(buffer, format='JPEG', quality=quality)\n",
    "        buffer.seek(0)\n",
    "        self.image = Image.open(buffer)\n",
    "        return self\n",
    "\n",
    "    def apply_random_crop_resize(self, crop_percent=0.05):\n",
    "        \"\"\"Randomly crop and resize back to original dimensions.\n",
    "\n",
    "        Args:\n",
    "            crop_percent: Percentage of image to crop (0-0.4).\n",
    "        \"\"\"\n",
    "        width, height = self.image.size\n",
    "        crop_pixels_w = int(width * crop_percent)\n",
    "        crop_pixels_h = int(height * crop_percent)\n",
    "\n",
    "        left = self.rng.randint(0, crop_pixels_w + 1)\n",
    "        top = self.rng.randint(0, crop_pixels_h + 1)\n",
    "        right = width - self.rng.randint(0, crop_pixels_w + 1)\n",
    "        bottom = height - self.rng.randint(0, crop_pixels_h + 1)\n",
    "\n",
    "        self.image = self.image.crop((left, top, right, bottom))\n",
    "        self.image = self.image.resize((width, height), Image.BILINEAR)\n",
    "        return self\n",
    "\n",
    "    def apply(self):\n",
    "        \"\"\"Apply an ensemble of defenses.\"\"\"\n",
    "        return (\n",
    "            self.apply_random_crop_resize(crop_percent=0.03)\n",
    "            .apply_jpeg_compression(quality=95)\n",
    "            .apply_median_filter(size=9)\n",
    "            .apply_fft_low_pass(cutoff_frequency=0.5)\n",
    "            .apply_bilateral_filter(d=5, sigma_color=75, sigma_space=75)\n",
    "            .apply_jpeg_compression(quality=92)\n",
    "        )"
   ]
  },
  {
   "cell_type": "code",
   "execution_count": 20,
   "id": "a1ead4e2",
   "metadata": {
    "execution": {
     "iopub.execute_input": "2025-04-16T15:12:46.824699Z",
     "iopub.status.busy": "2025-04-16T15:12:46.824299Z",
     "iopub.status.idle": "2025-04-16T15:12:46.827860Z",
     "shell.execute_reply": "2025-04-16T15:12:46.827099Z"
    },
    "papermill": {
     "duration": 0.013939,
     "end_time": "2025-04-16T15:12:46.829228",
     "exception": false,
     "start_time": "2025-04-16T15:12:46.815289",
     "status": "completed"
    },
    "tags": []
   },
   "outputs": [],
   "source": [
    "# torch.cuda.empty_cache()\n",
    "\n",
    "# train_question_df[\"answer\"] = [json.dumps(x) for x in train_question_df[\"answer\"].values]\n",
    "# train_question_df[\"choices\"] = [json.dumps(x.tolist()) for x in train_question_df[\"choices\"].values]\n",
    "# train_question_df[\"question\"] = [json.dumps(x) for x in train_question_df[\"question\"].values]\n",
    "\n",
    "# pred_df = pd.read_csv(\"./pred.csv\").sort_values(\"id\").reset_index(drop=True)\n",
    "\n",
    "# res = score(\n",
    "#     train_question_df,\n",
    "#     pred_df,\n",
    "#     \"id\"\n",
    "# )\n",
    "\n",
    "# print(res[0])\n",
    "# print(np.mean([x[1] for x in res[1]]))\n",
    "# print(np.mean([x[2] for x in res[1]]))\n",
    "# print(np.mean([x[3] for x in res[1]]))"
   ]
  },
  {
   "cell_type": "code",
   "execution_count": null,
   "id": "ff1a997b",
   "metadata": {},
   "outputs": [],
   "source": []
  },
  {
   "cell_type": "code",
   "execution_count": null,
   "id": "703d42a7",
   "metadata": {},
   "outputs": [],
   "source": []
  },
  {
   "cell_type": "code",
   "execution_count": 21,
   "id": "49638dff",
   "metadata": {},
   "outputs": [],
   "source": [
    "# 0.6745898073101196\n",
    "# 0.7465070856231086\n",
    "# 0.5028592077891033\n",
    "# 1.0"
   ]
  }
 ],
 "metadata": {
  "kaggle": {
   "accelerator": "nvidiaTeslaT4",
   "dataSources": [
    {
     "databundleVersionId": 11735795,
     "sourceId": 89659,
     "sourceType": "competition"
    },
    {
     "datasetId": 6762588,
     "sourceId": 10883959,
     "sourceType": "datasetVersion"
    },
    {
     "datasetId": 7144227,
     "sourceId": 11405535,
     "sourceType": "datasetVersion"
    },
    {
     "datasetId": 7157645,
     "sourceId": 11428755,
     "sourceType": "datasetVersion"
    },
    {
     "datasetId": 7157725,
     "sourceId": 11436955,
     "sourceType": "datasetVersion"
    },
    {
     "sourceId": 224423433,
     "sourceType": "kernelVersion"
    },
    {
     "sourceId": 230023480,
     "sourceType": "kernelVersion"
    },
    {
     "modelId": 971,
     "modelInstanceId": 3319,
     "sourceId": 4527,
     "sourceType": "modelInstanceVersion"
    },
    {
     "modelId": 164716,
     "modelInstanceId": 225001,
     "sourceId": 263093,
     "sourceType": "modelInstanceVersion"
    },
    {
     "modelId": 269379,
     "modelInstanceId": 247861,
     "sourceId": 289299,
     "sourceType": "modelInstanceVersion"
    },
    {
     "modelId": 269387,
     "modelInstanceId": 247869,
     "sourceId": 289308,
     "sourceType": "modelInstanceVersion"
    }
   ],
   "dockerImageVersionId": 30919,
   "isGpuEnabled": true,
   "isInternetEnabled": false,
   "language": "python",
   "sourceType": "notebook"
  },
  "kernelspec": {
   "display_name": "dev",
   "language": "python",
   "name": "python3"
  },
  "language_info": {
   "codemirror_mode": {
    "name": "ipython",
    "version": 3
   },
   "file_extension": ".py",
   "mimetype": "text/x-python",
   "name": "python",
   "nbconvert_exporter": "python",
   "pygments_lexer": "ipython3",
   "version": "3.11.11"
  },
  "papermill": {
   "default_parameters": {},
   "duration": 297.52544,
   "end_time": "2025-04-16T15:12:50.501148",
   "environment_variables": {},
   "exception": null,
   "input_path": "__notebook__.ipynb",
   "output_path": "__notebook__.ipynb",
   "parameters": {},
   "start_time": "2025-04-16T15:07:52.975708",
   "version": "2.6.0"
  },
  "widgets": {
   "application/vnd.jupyter.widget-state+json": {
    "state": {
     "17caf4740317477c858a6d1df4101003": {
      "model_module": "@jupyter-widgets/controls",
      "model_module_version": "2.0.0",
      "model_name": "FloatProgressModel",
      "state": {
       "_dom_classes": [],
       "_model_module": "@jupyter-widgets/controls",
       "_model_module_version": "2.0.0",
       "_model_name": "FloatProgressModel",
       "_view_count": null,
       "_view_module": "@jupyter-widgets/controls",
       "_view_module_version": "2.0.0",
       "_view_name": "ProgressView",
       "bar_style": "success",
       "description": "",
       "description_allow_html": false,
       "layout": "IPY_MODEL_1a491be2e5274b618907d27ed3d1ac26",
       "max": 25,
       "min": 0,
       "orientation": "horizontal",
       "style": "IPY_MODEL_28e7d036b26e47b589b41c02f95aa85c",
       "tabbable": null,
       "tooltip": null,
       "value": 25
      }
     },
     "1a1f6b46fee5473ebf91d8218885d310": {
      "model_module": "@jupyter-widgets/controls",
      "model_module_version": "2.0.0",
      "model_name": "HTMLModel",
      "state": {
       "_dom_classes": [],
       "_model_module": "@jupyter-widgets/controls",
       "_model_module_version": "2.0.0",
       "_model_name": "HTMLModel",
       "_view_count": null,
       "_view_module": "@jupyter-widgets/controls",
       "_view_module_version": "2.0.0",
       "_view_name": "HTMLView",
       "description": "",
       "description_allow_html": false,
       "layout": "IPY_MODEL_c2903cd0271f45268a9bed71bfd7002a",
       "placeholder": "​",
       "style": "IPY_MODEL_e0d510eb8f26448fb98e30f5cf22e892",
       "tabbable": null,
       "tooltip": null,
       "value": "Loading pipeline components...: 100%"
      }
     },
     "1a491be2e5274b618907d27ed3d1ac26": {
      "model_module": "@jupyter-widgets/base",
      "model_module_version": "2.0.0",
      "model_name": "LayoutModel",
      "state": {
       "_model_module": "@jupyter-widgets/base",
       "_model_module_version": "2.0.0",
       "_model_name": "LayoutModel",
       "_view_count": null,
       "_view_module": "@jupyter-widgets/base",
       "_view_module_version": "2.0.0",
       "_view_name": "LayoutView",
       "align_content": null,
       "align_items": null,
       "align_self": null,
       "border_bottom": null,
       "border_left": null,
       "border_right": null,
       "border_top": null,
       "bottom": null,
       "display": null,
       "flex": null,
       "flex_flow": null,
       "grid_area": null,
       "grid_auto_columns": null,
       "grid_auto_flow": null,
       "grid_auto_rows": null,
       "grid_column": null,
       "grid_gap": null,
       "grid_row": null,
       "grid_template_areas": null,
       "grid_template_columns": null,
       "grid_template_rows": null,
       "height": null,
       "justify_content": null,
       "justify_items": null,
       "left": null,
       "margin": null,
       "max_height": null,
       "max_width": null,
       "min_height": null,
       "min_width": null,
       "object_fit": null,
       "object_position": null,
       "order": null,
       "overflow": null,
       "padding": null,
       "right": null,
       "top": null,
       "visibility": null,
       "width": null
      }
     },
     "1bb55565c6da41e3a5b7d2b1c0095799": {
      "model_module": "@jupyter-widgets/base",
      "model_module_version": "2.0.0",
      "model_name": "LayoutModel",
      "state": {
       "_model_module": "@jupyter-widgets/base",
       "_model_module_version": "2.0.0",
       "_model_name": "LayoutModel",
       "_view_count": null,
       "_view_module": "@jupyter-widgets/base",
       "_view_module_version": "2.0.0",
       "_view_name": "LayoutView",
       "align_content": null,
       "align_items": null,
       "align_self": null,
       "border_bottom": null,
       "border_left": null,
       "border_right": null,
       "border_top": null,
       "bottom": null,
       "display": null,
       "flex": null,
       "flex_flow": null,
       "grid_area": null,
       "grid_auto_columns": null,
       "grid_auto_flow": null,
       "grid_auto_rows": null,
       "grid_column": null,
       "grid_gap": null,
       "grid_row": null,
       "grid_template_areas": null,
       "grid_template_columns": null,
       "grid_template_rows": null,
       "height": null,
       "justify_content": null,
       "justify_items": null,
       "left": null,
       "margin": null,
       "max_height": null,
       "max_width": null,
       "min_height": null,
       "min_width": null,
       "object_fit": null,
       "object_position": null,
       "order": null,
       "overflow": null,
       "padding": null,
       "right": null,
       "top": null,
       "visibility": null,
       "width": null
      }
     },
     "2325409316674dee96fae939b6a04c87": {
      "model_module": "@jupyter-widgets/controls",
      "model_module_version": "2.0.0",
      "model_name": "HTMLStyleModel",
      "state": {
       "_model_module": "@jupyter-widgets/controls",
       "_model_module_version": "2.0.0",
       "_model_name": "HTMLStyleModel",
       "_view_count": null,
       "_view_module": "@jupyter-widgets/base",
       "_view_module_version": "2.0.0",
       "_view_name": "StyleView",
       "background": null,
       "description_width": "",
       "font_size": null,
       "text_color": null
      }
     },
     "28e7d036b26e47b589b41c02f95aa85c": {
      "model_module": "@jupyter-widgets/controls",
      "model_module_version": "2.0.0",
      "model_name": "ProgressStyleModel",
      "state": {
       "_model_module": "@jupyter-widgets/controls",
       "_model_module_version": "2.0.0",
       "_model_name": "ProgressStyleModel",
       "_view_count": null,
       "_view_module": "@jupyter-widgets/base",
       "_view_module_version": "2.0.0",
       "_view_name": "StyleView",
       "bar_color": null,
       "description_width": ""
      }
     },
     "35ba8d824d7a4a54ac538f5ba7a60222": {
      "model_module": "@jupyter-widgets/controls",
      "model_module_version": "2.0.0",
      "model_name": "HTMLModel",
      "state": {
       "_dom_classes": [],
       "_model_module": "@jupyter-widgets/controls",
       "_model_module_version": "2.0.0",
       "_model_name": "HTMLModel",
       "_view_count": null,
       "_view_module": "@jupyter-widgets/controls",
       "_view_module_version": "2.0.0",
       "_view_name": "HTMLView",
       "description": "",
       "description_allow_html": false,
       "layout": "IPY_MODEL_9f75390e70894000b5aca70772be9a0d",
       "placeholder": "​",
       "style": "IPY_MODEL_a59a400920494c5faa8f6f18afdca084",
       "tabbable": null,
       "tooltip": null,
       "value": " 0/0 [00:00&lt;?, ?it/s]"
      }
     },
     "3eb80fd5fb1149a2801ddafe87ffdc6a": {
      "model_module": "@jupyter-widgets/controls",
      "model_module_version": "2.0.0",
      "model_name": "ProgressStyleModel",
      "state": {
       "_model_module": "@jupyter-widgets/controls",
       "_model_module_version": "2.0.0",
       "_model_name": "ProgressStyleModel",
       "_view_count": null,
       "_view_module": "@jupyter-widgets/base",
       "_view_module_version": "2.0.0",
       "_view_name": "StyleView",
       "bar_color": null,
       "description_width": ""
      }
     },
     "4316e204f3444d05979816214780d822": {
      "model_module": "@jupyter-widgets/controls",
      "model_module_version": "2.0.0",
      "model_name": "HBoxModel",
      "state": {
       "_dom_classes": [],
       "_model_module": "@jupyter-widgets/controls",
       "_model_module_version": "2.0.0",
       "_model_name": "HBoxModel",
       "_view_count": null,
       "_view_module": "@jupyter-widgets/controls",
       "_view_module_version": "2.0.0",
       "_view_name": "HBoxView",
       "box_style": "",
       "children": [
        "IPY_MODEL_a2eb7d15949b4ec4b2267d1d16ebdac0",
        "IPY_MODEL_17caf4740317477c858a6d1df4101003",
        "IPY_MODEL_c8811d710e2c454c8fd3a36371509ee2"
       ],
       "layout": "IPY_MODEL_89feab70f43a4c1488b2d16c7550ad27",
       "tabbable": null,
       "tooltip": null
      }
     },
     "45d961dd39834ff0b3ee632324c3f505": {
      "model_module": "@jupyter-widgets/controls",
      "model_module_version": "2.0.0",
      "model_name": "HTMLModel",
      "state": {
       "_dom_classes": [],
       "_model_module": "@jupyter-widgets/controls",
       "_model_module_version": "2.0.0",
       "_model_name": "HTMLModel",
       "_view_count": null,
       "_view_module": "@jupyter-widgets/controls",
       "_view_module_version": "2.0.0",
       "_view_name": "HTMLView",
       "description": "",
       "description_allow_html": false,
       "layout": "IPY_MODEL_85151ff9347d48fb9a65effeb0763bad",
       "placeholder": "​",
       "style": "IPY_MODEL_84b3b36031934934810fea5d458fa124",
       "tabbable": null,
       "tooltip": null,
       "value": " 80/80 [00:31&lt;00:00,  2.91it/s]"
      }
     },
     "4a587cb8524d481fb15f3d23218409ae": {
      "model_module": "@jupyter-widgets/base",
      "model_module_version": "2.0.0",
      "model_name": "LayoutModel",
      "state": {
       "_model_module": "@jupyter-widgets/base",
       "_model_module_version": "2.0.0",
       "_model_name": "LayoutModel",
       "_view_count": null,
       "_view_module": "@jupyter-widgets/base",
       "_view_module_version": "2.0.0",
       "_view_name": "LayoutView",
       "align_content": null,
       "align_items": null,
       "align_self": null,
       "border_bottom": null,
       "border_left": null,
       "border_right": null,
       "border_top": null,
       "bottom": null,
       "display": null,
       "flex": null,
       "flex_flow": null,
       "grid_area": null,
       "grid_auto_columns": null,
       "grid_auto_flow": null,
       "grid_auto_rows": null,
       "grid_column": null,
       "grid_gap": null,
       "grid_row": null,
       "grid_template_areas": null,
       "grid_template_columns": null,
       "grid_template_rows": null,
       "height": null,
       "justify_content": null,
       "justify_items": null,
       "left": null,
       "margin": null,
       "max_height": null,
       "max_width": null,
       "min_height": null,
       "min_width": null,
       "object_fit": null,
       "object_position": null,
       "order": null,
       "overflow": null,
       "padding": null,
       "right": null,
       "top": null,
       "visibility": null,
       "width": null
      }
     },
     "4f62be53c2554fd489568c7b12bcae9a": {
      "model_module": "@jupyter-widgets/controls",
      "model_module_version": "2.0.0",
      "model_name": "HTMLModel",
      "state": {
       "_dom_classes": [],
       "_model_module": "@jupyter-widgets/controls",
       "_model_module_version": "2.0.0",
       "_model_name": "HTMLModel",
       "_view_count": null,
       "_view_module": "@jupyter-widgets/controls",
       "_view_module_version": "2.0.0",
       "_view_name": "HTMLView",
       "description": "",
       "description_allow_html": false,
       "layout": "IPY_MODEL_6ea40336ee27488a82e71182aae03d6d",
       "placeholder": "​",
       "style": "IPY_MODEL_56b8fadd34304650be895bf326f5d73b",
       "tabbable": null,
       "tooltip": null,
       "value": ""
      }
     },
     "558a15ddbe484e8c92443fc05a7d94df": {
      "model_module": "@jupyter-widgets/controls",
      "model_module_version": "2.0.0",
      "model_name": "HTMLModel",
      "state": {
       "_dom_classes": [],
       "_model_module": "@jupyter-widgets/controls",
       "_model_module_version": "2.0.0",
       "_model_name": "HTMLModel",
       "_view_count": null,
       "_view_module": "@jupyter-widgets/controls",
       "_view_module_version": "2.0.0",
       "_view_name": "HTMLView",
       "description": "",
       "description_allow_html": false,
       "layout": "IPY_MODEL_a102398fa94044e7ac02a2d1a7d6c69f",
       "placeholder": "​",
       "style": "IPY_MODEL_2325409316674dee96fae939b6a04c87",
       "tabbable": null,
       "tooltip": null,
       "value": " 6/6 [00:29&lt;00:00,  4.81s/it]"
      }
     },
     "56b8fadd34304650be895bf326f5d73b": {
      "model_module": "@jupyter-widgets/controls",
      "model_module_version": "2.0.0",
      "model_name": "HTMLStyleModel",
      "state": {
       "_model_module": "@jupyter-widgets/controls",
       "_model_module_version": "2.0.0",
       "_model_name": "HTMLStyleModel",
       "_view_count": null,
       "_view_module": "@jupyter-widgets/base",
       "_view_module_version": "2.0.0",
       "_view_name": "StyleView",
       "background": null,
       "description_width": "",
       "font_size": null,
       "text_color": null
      }
     },
     "5d2dd23ef47e4bb8b5dff36c858b0966": {
      "model_module": "@jupyter-widgets/controls",
      "model_module_version": "2.0.0",
      "model_name": "HTMLModel",
      "state": {
       "_dom_classes": [],
       "_model_module": "@jupyter-widgets/controls",
       "_model_module_version": "2.0.0",
       "_model_name": "HTMLModel",
       "_view_count": null,
       "_view_module": "@jupyter-widgets/controls",
       "_view_module_version": "2.0.0",
       "_view_name": "HTMLView",
       "description": "",
       "description_allow_html": false,
       "layout": "IPY_MODEL_f0728ee4a60a4a0694e1b7e8588fe580",
       "placeholder": "​",
       "style": "IPY_MODEL_9b2a9b706ccb45978d6dd30041940e99",
       "tabbable": null,
       "tooltip": null,
       "value": "It 79/80 | Loss: 0.511 | Val Loss: 0.507 | : 100%"
      }
     },
     "6c96d65ec55e4a6c9fff6998d11305b5": {
      "model_module": "@jupyter-widgets/base",
      "model_module_version": "2.0.0",
      "model_name": "LayoutModel",
      "state": {
       "_model_module": "@jupyter-widgets/base",
       "_model_module_version": "2.0.0",
       "_model_name": "LayoutModel",
       "_view_count": null,
       "_view_module": "@jupyter-widgets/base",
       "_view_module_version": "2.0.0",
       "_view_name": "LayoutView",
       "align_content": null,
       "align_items": null,
       "align_self": null,
       "border_bottom": null,
       "border_left": null,
       "border_right": null,
       "border_top": null,
       "bottom": null,
       "display": null,
       "flex": null,
       "flex_flow": null,
       "grid_area": null,
       "grid_auto_columns": null,
       "grid_auto_flow": null,
       "grid_auto_rows": null,
       "grid_column": null,
       "grid_gap": null,
       "grid_row": null,
       "grid_template_areas": null,
       "grid_template_columns": null,
       "grid_template_rows": null,
       "height": null,
       "justify_content": null,
       "justify_items": null,
       "left": null,
       "margin": null,
       "max_height": null,
       "max_width": null,
       "min_height": null,
       "min_width": null,
       "object_fit": null,
       "object_position": null,
       "order": null,
       "overflow": null,
       "padding": null,
       "right": null,
       "top": null,
       "visibility": null,
       "width": null
      }
     },
     "6ea40336ee27488a82e71182aae03d6d": {
      "model_module": "@jupyter-widgets/base",
      "model_module_version": "2.0.0",
      "model_name": "LayoutModel",
      "state": {
       "_model_module": "@jupyter-widgets/base",
       "_model_module_version": "2.0.0",
       "_model_name": "LayoutModel",
       "_view_count": null,
       "_view_module": "@jupyter-widgets/base",
       "_view_module_version": "2.0.0",
       "_view_name": "LayoutView",
       "align_content": null,
       "align_items": null,
       "align_self": null,
       "border_bottom": null,
       "border_left": null,
       "border_right": null,
       "border_top": null,
       "bottom": null,
       "display": null,
       "flex": null,
       "flex_flow": null,
       "grid_area": null,
       "grid_auto_columns": null,
       "grid_auto_flow": null,
       "grid_auto_rows": null,
       "grid_column": null,
       "grid_gap": null,
       "grid_row": null,
       "grid_template_areas": null,
       "grid_template_columns": null,
       "grid_template_rows": null,
       "height": null,
       "justify_content": null,
       "justify_items": null,
       "left": null,
       "margin": null,
       "max_height": null,
       "max_width": null,
       "min_height": null,
       "min_width": null,
       "object_fit": null,
       "object_position": null,
       "order": null,
       "overflow": null,
       "padding": null,
       "right": null,
       "top": null,
       "visibility": null,
       "width": null
      }
     },
     "71f1badb96f24dd9b343dc2eca9350f2": {
      "model_module": "@jupyter-widgets/controls",
      "model_module_version": "2.0.0",
      "model_name": "HBoxModel",
      "state": {
       "_dom_classes": [],
       "_model_module": "@jupyter-widgets/controls",
       "_model_module_version": "2.0.0",
       "_model_name": "HBoxModel",
       "_view_count": null,
       "_view_module": "@jupyter-widgets/controls",
       "_view_module_version": "2.0.0",
       "_view_name": "HBoxView",
       "box_style": "",
       "children": [
        "IPY_MODEL_5d2dd23ef47e4bb8b5dff36c858b0966",
        "IPY_MODEL_b482de003ab74197ba8c3dc830bfb540",
        "IPY_MODEL_45d961dd39834ff0b3ee632324c3f505"
       ],
       "layout": "IPY_MODEL_d2610ef483c145499fb086b8dcab294e",
       "tabbable": null,
       "tooltip": null
      }
     },
     "835fe32b60e942f4a858400ed30cfe0b": {
      "model_module": "@jupyter-widgets/controls",
      "model_module_version": "2.0.0",
      "model_name": "ProgressStyleModel",
      "state": {
       "_model_module": "@jupyter-widgets/controls",
       "_model_module_version": "2.0.0",
       "_model_name": "ProgressStyleModel",
       "_view_count": null,
       "_view_module": "@jupyter-widgets/base",
       "_view_module_version": "2.0.0",
       "_view_name": "StyleView",
       "bar_color": null,
       "description_width": ""
      }
     },
     "84b3b36031934934810fea5d458fa124": {
      "model_module": "@jupyter-widgets/controls",
      "model_module_version": "2.0.0",
      "model_name": "HTMLStyleModel",
      "state": {
       "_model_module": "@jupyter-widgets/controls",
       "_model_module_version": "2.0.0",
       "_model_name": "HTMLStyleModel",
       "_view_count": null,
       "_view_module": "@jupyter-widgets/base",
       "_view_module_version": "2.0.0",
       "_view_name": "StyleView",
       "background": null,
       "description_width": "",
       "font_size": null,
       "text_color": null
      }
     },
     "85151ff9347d48fb9a65effeb0763bad": {
      "model_module": "@jupyter-widgets/base",
      "model_module_version": "2.0.0",
      "model_name": "LayoutModel",
      "state": {
       "_model_module": "@jupyter-widgets/base",
       "_model_module_version": "2.0.0",
       "_model_name": "LayoutModel",
       "_view_count": null,
       "_view_module": "@jupyter-widgets/base",
       "_view_module_version": "2.0.0",
       "_view_name": "LayoutView",
       "align_content": null,
       "align_items": null,
       "align_self": null,
       "border_bottom": null,
       "border_left": null,
       "border_right": null,
       "border_top": null,
       "bottom": null,
       "display": null,
       "flex": null,
       "flex_flow": null,
       "grid_area": null,
       "grid_auto_columns": null,
       "grid_auto_flow": null,
       "grid_auto_rows": null,
       "grid_column": null,
       "grid_gap": null,
       "grid_row": null,
       "grid_template_areas": null,
       "grid_template_columns": null,
       "grid_template_rows": null,
       "height": null,
       "justify_content": null,
       "justify_items": null,
       "left": null,
       "margin": null,
       "max_height": null,
       "max_width": null,
       "min_height": null,
       "min_width": null,
       "object_fit": null,
       "object_position": null,
       "order": null,
       "overflow": null,
       "padding": null,
       "right": null,
       "top": null,
       "visibility": null,
       "width": null
      }
     },
     "89feab70f43a4c1488b2d16c7550ad27": {
      "model_module": "@jupyter-widgets/base",
      "model_module_version": "2.0.0",
      "model_name": "LayoutModel",
      "state": {
       "_model_module": "@jupyter-widgets/base",
       "_model_module_version": "2.0.0",
       "_model_name": "LayoutModel",
       "_view_count": null,
       "_view_module": "@jupyter-widgets/base",
       "_view_module_version": "2.0.0",
       "_view_name": "LayoutView",
       "align_content": null,
       "align_items": null,
       "align_self": null,
       "border_bottom": null,
       "border_left": null,
       "border_right": null,
       "border_top": null,
       "bottom": null,
       "display": null,
       "flex": null,
       "flex_flow": null,
       "grid_area": null,
       "grid_auto_columns": null,
       "grid_auto_flow": null,
       "grid_auto_rows": null,
       "grid_column": null,
       "grid_gap": null,
       "grid_row": null,
       "grid_template_areas": null,
       "grid_template_columns": null,
       "grid_template_rows": null,
       "height": null,
       "justify_content": null,
       "justify_items": null,
       "left": null,
       "margin": null,
       "max_height": null,
       "max_width": null,
       "min_height": null,
       "min_width": null,
       "object_fit": null,
       "object_position": null,
       "order": null,
       "overflow": null,
       "padding": null,
       "right": null,
       "top": null,
       "visibility": null,
       "width": null
      }
     },
     "9b2a9b706ccb45978d6dd30041940e99": {
      "model_module": "@jupyter-widgets/controls",
      "model_module_version": "2.0.0",
      "model_name": "HTMLStyleModel",
      "state": {
       "_model_module": "@jupyter-widgets/controls",
       "_model_module_version": "2.0.0",
       "_model_name": "HTMLStyleModel",
       "_view_count": null,
       "_view_module": "@jupyter-widgets/base",
       "_view_module_version": "2.0.0",
       "_view_name": "StyleView",
       "background": null,
       "description_width": "",
       "font_size": null,
       "text_color": null
      }
     },
     "9f75390e70894000b5aca70772be9a0d": {
      "model_module": "@jupyter-widgets/base",
      "model_module_version": "2.0.0",
      "model_name": "LayoutModel",
      "state": {
       "_model_module": "@jupyter-widgets/base",
       "_model_module_version": "2.0.0",
       "_model_name": "LayoutModel",
       "_view_count": null,
       "_view_module": "@jupyter-widgets/base",
       "_view_module_version": "2.0.0",
       "_view_name": "LayoutView",
       "align_content": null,
       "align_items": null,
       "align_self": null,
       "border_bottom": null,
       "border_left": null,
       "border_right": null,
       "border_top": null,
       "bottom": null,
       "display": null,
       "flex": null,
       "flex_flow": null,
       "grid_area": null,
       "grid_auto_columns": null,
       "grid_auto_flow": null,
       "grid_auto_rows": null,
       "grid_column": null,
       "grid_gap": null,
       "grid_row": null,
       "grid_template_areas": null,
       "grid_template_columns": null,
       "grid_template_rows": null,
       "height": null,
       "justify_content": null,
       "justify_items": null,
       "left": null,
       "margin": null,
       "max_height": null,
       "max_width": null,
       "min_height": null,
       "min_width": null,
       "object_fit": null,
       "object_position": null,
       "order": null,
       "overflow": null,
       "padding": null,
       "right": null,
       "top": null,
       "visibility": null,
       "width": null
      }
     },
     "a102398fa94044e7ac02a2d1a7d6c69f": {
      "model_module": "@jupyter-widgets/base",
      "model_module_version": "2.0.0",
      "model_name": "LayoutModel",
      "state": {
       "_model_module": "@jupyter-widgets/base",
       "_model_module_version": "2.0.0",
       "_model_name": "LayoutModel",
       "_view_count": null,
       "_view_module": "@jupyter-widgets/base",
       "_view_module_version": "2.0.0",
       "_view_name": "LayoutView",
       "align_content": null,
       "align_items": null,
       "align_self": null,
       "border_bottom": null,
       "border_left": null,
       "border_right": null,
       "border_top": null,
       "bottom": null,
       "display": null,
       "flex": null,
       "flex_flow": null,
       "grid_area": null,
       "grid_auto_columns": null,
       "grid_auto_flow": null,
       "grid_auto_rows": null,
       "grid_column": null,
       "grid_gap": null,
       "grid_row": null,
       "grid_template_areas": null,
       "grid_template_columns": null,
       "grid_template_rows": null,
       "height": null,
       "justify_content": null,
       "justify_items": null,
       "left": null,
       "margin": null,
       "max_height": null,
       "max_width": null,
       "min_height": null,
       "min_width": null,
       "object_fit": null,
       "object_position": null,
       "order": null,
       "overflow": null,
       "padding": null,
       "right": null,
       "top": null,
       "visibility": null,
       "width": null
      }
     },
     "a2eb7d15949b4ec4b2267d1d16ebdac0": {
      "model_module": "@jupyter-widgets/controls",
      "model_module_version": "2.0.0",
      "model_name": "HTMLModel",
      "state": {
       "_dom_classes": [],
       "_model_module": "@jupyter-widgets/controls",
       "_model_module_version": "2.0.0",
       "_model_name": "HTMLModel",
       "_view_count": null,
       "_view_module": "@jupyter-widgets/controls",
       "_view_module_version": "2.0.0",
       "_view_name": "HTMLView",
       "description": "",
       "description_allow_html": false,
       "layout": "IPY_MODEL_4a587cb8524d481fb15f3d23218409ae",
       "placeholder": "​",
       "style": "IPY_MODEL_ab0f4f80330f4a1383ce50e9a164fded",
       "tabbable": null,
       "tooltip": null,
       "value": "100%"
      }
     },
     "a59a400920494c5faa8f6f18afdca084": {
      "model_module": "@jupyter-widgets/controls",
      "model_module_version": "2.0.0",
      "model_name": "HTMLStyleModel",
      "state": {
       "_model_module": "@jupyter-widgets/controls",
       "_model_module_version": "2.0.0",
       "_model_name": "HTMLStyleModel",
       "_view_count": null,
       "_view_module": "@jupyter-widgets/base",
       "_view_module_version": "2.0.0",
       "_view_name": "StyleView",
       "background": null,
       "description_width": "",
       "font_size": null,
       "text_color": null
      }
     },
     "ab0f4f80330f4a1383ce50e9a164fded": {
      "model_module": "@jupyter-widgets/controls",
      "model_module_version": "2.0.0",
      "model_name": "HTMLStyleModel",
      "state": {
       "_model_module": "@jupyter-widgets/controls",
       "_model_module_version": "2.0.0",
       "_model_name": "HTMLStyleModel",
       "_view_count": null,
       "_view_module": "@jupyter-widgets/base",
       "_view_module_version": "2.0.0",
       "_view_name": "StyleView",
       "background": null,
       "description_width": "",
       "font_size": null,
       "text_color": null
      }
     },
     "ad6fd5f5bbf343ebbc7c6ec02e8bd383": {
      "model_module": "@jupyter-widgets/controls",
      "model_module_version": "2.0.0",
      "model_name": "ProgressStyleModel",
      "state": {
       "_model_module": "@jupyter-widgets/controls",
       "_model_module_version": "2.0.0",
       "_model_name": "ProgressStyleModel",
       "_view_count": null,
       "_view_module": "@jupyter-widgets/base",
       "_view_module_version": "2.0.0",
       "_view_name": "StyleView",
       "bar_color": null,
       "description_width": ""
      }
     },
     "ae4320a8485945e881122a323f2f9686": {
      "model_module": "@jupyter-widgets/base",
      "model_module_version": "2.0.0",
      "model_name": "LayoutModel",
      "state": {
       "_model_module": "@jupyter-widgets/base",
       "_model_module_version": "2.0.0",
       "_model_name": "LayoutModel",
       "_view_count": null,
       "_view_module": "@jupyter-widgets/base",
       "_view_module_version": "2.0.0",
       "_view_name": "LayoutView",
       "align_content": null,
       "align_items": null,
       "align_self": null,
       "border_bottom": null,
       "border_left": null,
       "border_right": null,
       "border_top": null,
       "bottom": null,
       "display": null,
       "flex": null,
       "flex_flow": null,
       "grid_area": null,
       "grid_auto_columns": null,
       "grid_auto_flow": null,
       "grid_auto_rows": null,
       "grid_column": null,
       "grid_gap": null,
       "grid_row": null,
       "grid_template_areas": null,
       "grid_template_columns": null,
       "grid_template_rows": null,
       "height": null,
       "justify_content": null,
       "justify_items": null,
       "left": null,
       "margin": null,
       "max_height": null,
       "max_width": null,
       "min_height": null,
       "min_width": null,
       "object_fit": null,
       "object_position": null,
       "order": null,
       "overflow": null,
       "padding": null,
       "right": null,
       "top": null,
       "visibility": null,
       "width": null
      }
     },
     "b477feb828d340918b4ebd693c09625d": {
      "model_module": "@jupyter-widgets/base",
      "model_module_version": "2.0.0",
      "model_name": "LayoutModel",
      "state": {
       "_model_module": "@jupyter-widgets/base",
       "_model_module_version": "2.0.0",
       "_model_name": "LayoutModel",
       "_view_count": null,
       "_view_module": "@jupyter-widgets/base",
       "_view_module_version": "2.0.0",
       "_view_name": "LayoutView",
       "align_content": null,
       "align_items": null,
       "align_self": null,
       "border_bottom": null,
       "border_left": null,
       "border_right": null,
       "border_top": null,
       "bottom": null,
       "display": null,
       "flex": null,
       "flex_flow": null,
       "grid_area": null,
       "grid_auto_columns": null,
       "grid_auto_flow": null,
       "grid_auto_rows": null,
       "grid_column": null,
       "grid_gap": null,
       "grid_row": null,
       "grid_template_areas": null,
       "grid_template_columns": null,
       "grid_template_rows": null,
       "height": null,
       "justify_content": null,
       "justify_items": null,
       "left": null,
       "margin": null,
       "max_height": null,
       "max_width": null,
       "min_height": null,
       "min_width": null,
       "object_fit": null,
       "object_position": null,
       "order": null,
       "overflow": null,
       "padding": null,
       "right": null,
       "top": null,
       "visibility": null,
       "width": "20px"
      }
     },
     "b482de003ab74197ba8c3dc830bfb540": {
      "model_module": "@jupyter-widgets/controls",
      "model_module_version": "2.0.0",
      "model_name": "FloatProgressModel",
      "state": {
       "_dom_classes": [],
       "_model_module": "@jupyter-widgets/controls",
       "_model_module_version": "2.0.0",
       "_model_name": "FloatProgressModel",
       "_view_count": null,
       "_view_module": "@jupyter-widgets/controls",
       "_view_module_version": "2.0.0",
       "_view_name": "ProgressView",
       "bar_style": "",
       "description": "",
       "description_allow_html": false,
       "layout": "IPY_MODEL_6c96d65ec55e4a6c9fff6998d11305b5",
       "max": 80,
       "min": 0,
       "orientation": "horizontal",
       "style": "IPY_MODEL_835fe32b60e942f4a858400ed30cfe0b",
       "tabbable": null,
       "tooltip": null,
       "value": 80
      }
     },
     "bcc3d5eea1eb421388d942ad089cbb4d": {
      "model_module": "@jupyter-widgets/base",
      "model_module_version": "2.0.0",
      "model_name": "LayoutModel",
      "state": {
       "_model_module": "@jupyter-widgets/base",
       "_model_module_version": "2.0.0",
       "_model_name": "LayoutModel",
       "_view_count": null,
       "_view_module": "@jupyter-widgets/base",
       "_view_module_version": "2.0.0",
       "_view_name": "LayoutView",
       "align_content": null,
       "align_items": null,
       "align_self": null,
       "border_bottom": null,
       "border_left": null,
       "border_right": null,
       "border_top": null,
       "bottom": null,
       "display": null,
       "flex": null,
       "flex_flow": null,
       "grid_area": null,
       "grid_auto_columns": null,
       "grid_auto_flow": null,
       "grid_auto_rows": null,
       "grid_column": null,
       "grid_gap": null,
       "grid_row": null,
       "grid_template_areas": null,
       "grid_template_columns": null,
       "grid_template_rows": null,
       "height": null,
       "justify_content": null,
       "justify_items": null,
       "left": null,
       "margin": null,
       "max_height": null,
       "max_width": null,
       "min_height": null,
       "min_width": null,
       "object_fit": null,
       "object_position": null,
       "order": null,
       "overflow": null,
       "padding": null,
       "right": null,
       "top": null,
       "visibility": null,
       "width": null
      }
     },
     "c2903cd0271f45268a9bed71bfd7002a": {
      "model_module": "@jupyter-widgets/base",
      "model_module_version": "2.0.0",
      "model_name": "LayoutModel",
      "state": {
       "_model_module": "@jupyter-widgets/base",
       "_model_module_version": "2.0.0",
       "_model_name": "LayoutModel",
       "_view_count": null,
       "_view_module": "@jupyter-widgets/base",
       "_view_module_version": "2.0.0",
       "_view_name": "LayoutView",
       "align_content": null,
       "align_items": null,
       "align_self": null,
       "border_bottom": null,
       "border_left": null,
       "border_right": null,
       "border_top": null,
       "bottom": null,
       "display": null,
       "flex": null,
       "flex_flow": null,
       "grid_area": null,
       "grid_auto_columns": null,
       "grid_auto_flow": null,
       "grid_auto_rows": null,
       "grid_column": null,
       "grid_gap": null,
       "grid_row": null,
       "grid_template_areas": null,
       "grid_template_columns": null,
       "grid_template_rows": null,
       "height": null,
       "justify_content": null,
       "justify_items": null,
       "left": null,
       "margin": null,
       "max_height": null,
       "max_width": null,
       "min_height": null,
       "min_width": null,
       "object_fit": null,
       "object_position": null,
       "order": null,
       "overflow": null,
       "padding": null,
       "right": null,
       "top": null,
       "visibility": null,
       "width": null
      }
     },
     "c4dad4cfd0ad411eb194faa9b2b65e53": {
      "model_module": "@jupyter-widgets/base",
      "model_module_version": "2.0.0",
      "model_name": "LayoutModel",
      "state": {
       "_model_module": "@jupyter-widgets/base",
       "_model_module_version": "2.0.0",
       "_model_name": "LayoutModel",
       "_view_count": null,
       "_view_module": "@jupyter-widgets/base",
       "_view_module_version": "2.0.0",
       "_view_name": "LayoutView",
       "align_content": null,
       "align_items": null,
       "align_self": null,
       "border_bottom": null,
       "border_left": null,
       "border_right": null,
       "border_top": null,
       "bottom": null,
       "display": null,
       "flex": null,
       "flex_flow": null,
       "grid_area": null,
       "grid_auto_columns": null,
       "grid_auto_flow": null,
       "grid_auto_rows": null,
       "grid_column": null,
       "grid_gap": null,
       "grid_row": null,
       "grid_template_areas": null,
       "grid_template_columns": null,
       "grid_template_rows": null,
       "height": null,
       "justify_content": null,
       "justify_items": null,
       "left": null,
       "margin": null,
       "max_height": null,
       "max_width": null,
       "min_height": null,
       "min_width": null,
       "object_fit": null,
       "object_position": null,
       "order": null,
       "overflow": null,
       "padding": null,
       "right": null,
       "top": null,
       "visibility": null,
       "width": null
      }
     },
     "c8811d710e2c454c8fd3a36371509ee2": {
      "model_module": "@jupyter-widgets/controls",
      "model_module_version": "2.0.0",
      "model_name": "HTMLModel",
      "state": {
       "_dom_classes": [],
       "_model_module": "@jupyter-widgets/controls",
       "_model_module_version": "2.0.0",
       "_model_name": "HTMLModel",
       "_view_count": null,
       "_view_module": "@jupyter-widgets/controls",
       "_view_module_version": "2.0.0",
       "_view_name": "HTMLView",
       "description": "",
       "description_allow_html": false,
       "layout": "IPY_MODEL_bcc3d5eea1eb421388d942ad089cbb4d",
       "placeholder": "​",
       "style": "IPY_MODEL_e6bc1149d7dc467fad48874c86596a1a",
       "tabbable": null,
       "tooltip": null,
       "value": " 25/25 [00:09&lt;00:00,  3.14it/s]"
      }
     },
     "cf9b1ed50b1f48af86b7e0c3e6a61d2a": {
      "model_module": "@jupyter-widgets/controls",
      "model_module_version": "2.0.0",
      "model_name": "HBoxModel",
      "state": {
       "_dom_classes": [],
       "_model_module": "@jupyter-widgets/controls",
       "_model_module_version": "2.0.0",
       "_model_name": "HBoxModel",
       "_view_count": null,
       "_view_module": "@jupyter-widgets/controls",
       "_view_module_version": "2.0.0",
       "_view_name": "HBoxView",
       "box_style": "",
       "children": [
        "IPY_MODEL_4f62be53c2554fd489568c7b12bcae9a",
        "IPY_MODEL_d43cbdf809a8496899d6ac8cd24905e8",
        "IPY_MODEL_35ba8d824d7a4a54ac538f5ba7a60222"
       ],
       "layout": "IPY_MODEL_1bb55565c6da41e3a5b7d2b1c0095799",
       "tabbable": null,
       "tooltip": null
      }
     },
     "d2610ef483c145499fb086b8dcab294e": {
      "model_module": "@jupyter-widgets/base",
      "model_module_version": "2.0.0",
      "model_name": "LayoutModel",
      "state": {
       "_model_module": "@jupyter-widgets/base",
       "_model_module_version": "2.0.0",
       "_model_name": "LayoutModel",
       "_view_count": null,
       "_view_module": "@jupyter-widgets/base",
       "_view_module_version": "2.0.0",
       "_view_name": "LayoutView",
       "align_content": null,
       "align_items": null,
       "align_self": null,
       "border_bottom": null,
       "border_left": null,
       "border_right": null,
       "border_top": null,
       "bottom": null,
       "display": null,
       "flex": null,
       "flex_flow": null,
       "grid_area": null,
       "grid_auto_columns": null,
       "grid_auto_flow": null,
       "grid_auto_rows": null,
       "grid_column": null,
       "grid_gap": null,
       "grid_row": null,
       "grid_template_areas": null,
       "grid_template_columns": null,
       "grid_template_rows": null,
       "height": null,
       "justify_content": null,
       "justify_items": null,
       "left": null,
       "margin": null,
       "max_height": null,
       "max_width": null,
       "min_height": null,
       "min_width": null,
       "object_fit": null,
       "object_position": null,
       "order": null,
       "overflow": null,
       "padding": null,
       "right": null,
       "top": null,
       "visibility": null,
       "width": null
      }
     },
     "d43cbdf809a8496899d6ac8cd24905e8": {
      "model_module": "@jupyter-widgets/controls",
      "model_module_version": "2.0.0",
      "model_name": "FloatProgressModel",
      "state": {
       "_dom_classes": [],
       "_model_module": "@jupyter-widgets/controls",
       "_model_module_version": "2.0.0",
       "_model_name": "FloatProgressModel",
       "_view_count": null,
       "_view_module": "@jupyter-widgets/controls",
       "_view_module_version": "2.0.0",
       "_view_name": "ProgressView",
       "bar_style": "success",
       "description": "",
       "description_allow_html": false,
       "layout": "IPY_MODEL_b477feb828d340918b4ebd693c09625d",
       "max": 1,
       "min": 0,
       "orientation": "horizontal",
       "style": "IPY_MODEL_3eb80fd5fb1149a2801ddafe87ffdc6a",
       "tabbable": null,
       "tooltip": null,
       "value": 0
      }
     },
     "d9d17ecbaa36470f8541994d8433b6b9": {
      "model_module": "@jupyter-widgets/controls",
      "model_module_version": "2.0.0",
      "model_name": "FloatProgressModel",
      "state": {
       "_dom_classes": [],
       "_model_module": "@jupyter-widgets/controls",
       "_model_module_version": "2.0.0",
       "_model_name": "FloatProgressModel",
       "_view_count": null,
       "_view_module": "@jupyter-widgets/controls",
       "_view_module_version": "2.0.0",
       "_view_name": "ProgressView",
       "bar_style": "success",
       "description": "",
       "description_allow_html": false,
       "layout": "IPY_MODEL_c4dad4cfd0ad411eb194faa9b2b65e53",
       "max": 6,
       "min": 0,
       "orientation": "horizontal",
       "style": "IPY_MODEL_ad6fd5f5bbf343ebbc7c6ec02e8bd383",
       "tabbable": null,
       "tooltip": null,
       "value": 6
      }
     },
     "e0d510eb8f26448fb98e30f5cf22e892": {
      "model_module": "@jupyter-widgets/controls",
      "model_module_version": "2.0.0",
      "model_name": "HTMLStyleModel",
      "state": {
       "_model_module": "@jupyter-widgets/controls",
       "_model_module_version": "2.0.0",
       "_model_name": "HTMLStyleModel",
       "_view_count": null,
       "_view_module": "@jupyter-widgets/base",
       "_view_module_version": "2.0.0",
       "_view_name": "StyleView",
       "background": null,
       "description_width": "",
       "font_size": null,
       "text_color": null
      }
     },
     "e2c20fd30bd4411189a87f86dd754e3d": {
      "model_module": "@jupyter-widgets/controls",
      "model_module_version": "2.0.0",
      "model_name": "HBoxModel",
      "state": {
       "_dom_classes": [],
       "_model_module": "@jupyter-widgets/controls",
       "_model_module_version": "2.0.0",
       "_model_name": "HBoxModel",
       "_view_count": null,
       "_view_module": "@jupyter-widgets/controls",
       "_view_module_version": "2.0.0",
       "_view_name": "HBoxView",
       "box_style": "",
       "children": [
        "IPY_MODEL_1a1f6b46fee5473ebf91d8218885d310",
        "IPY_MODEL_d9d17ecbaa36470f8541994d8433b6b9",
        "IPY_MODEL_558a15ddbe484e8c92443fc05a7d94df"
       ],
       "layout": "IPY_MODEL_ae4320a8485945e881122a323f2f9686",
       "tabbable": null,
       "tooltip": null
      }
     },
     "e6bc1149d7dc467fad48874c86596a1a": {
      "model_module": "@jupyter-widgets/controls",
      "model_module_version": "2.0.0",
      "model_name": "HTMLStyleModel",
      "state": {
       "_model_module": "@jupyter-widgets/controls",
       "_model_module_version": "2.0.0",
       "_model_name": "HTMLStyleModel",
       "_view_count": null,
       "_view_module": "@jupyter-widgets/base",
       "_view_module_version": "2.0.0",
       "_view_name": "StyleView",
       "background": null,
       "description_width": "",
       "font_size": null,
       "text_color": null
      }
     },
     "f0728ee4a60a4a0694e1b7e8588fe580": {
      "model_module": "@jupyter-widgets/base",
      "model_module_version": "2.0.0",
      "model_name": "LayoutModel",
      "state": {
       "_model_module": "@jupyter-widgets/base",
       "_model_module_version": "2.0.0",
       "_model_name": "LayoutModel",
       "_view_count": null,
       "_view_module": "@jupyter-widgets/base",
       "_view_module_version": "2.0.0",
       "_view_name": "LayoutView",
       "align_content": null,
       "align_items": null,
       "align_self": null,
       "border_bottom": null,
       "border_left": null,
       "border_right": null,
       "border_top": null,
       "bottom": null,
       "display": null,
       "flex": null,
       "flex_flow": null,
       "grid_area": null,
       "grid_auto_columns": null,
       "grid_auto_flow": null,
       "grid_auto_rows": null,
       "grid_column": null,
       "grid_gap": null,
       "grid_row": null,
       "grid_template_areas": null,
       "grid_template_columns": null,
       "grid_template_rows": null,
       "height": null,
       "justify_content": null,
       "justify_items": null,
       "left": null,
       "margin": null,
       "max_height": null,
       "max_width": null,
       "min_height": null,
       "min_width": null,
       "object_fit": null,
       "object_position": null,
       "order": null,
       "overflow": null,
       "padding": null,
       "right": null,
       "top": null,
       "visibility": null,
       "width": null
      }
     }
    },
    "version_major": 2,
    "version_minor": 0
   }
  }
 },
 "nbformat": 4,
 "nbformat_minor": 5
}
